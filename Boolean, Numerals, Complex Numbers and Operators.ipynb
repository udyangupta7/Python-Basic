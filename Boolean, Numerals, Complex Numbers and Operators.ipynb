{
 "cells": [
  {
   "cell_type": "markdown",
   "metadata": {},
   "source": [
    "Boolean, Numerals and Operators:"
   ]
  },
  {
   "cell_type": "code",
   "execution_count": 32,
   "metadata": {},
   "outputs": [
    {
     "name": "stdout",
     "output_type": "stream",
     "text": [
      "\n",
      "enter a number: 20\n",
      "\n",
      "Number is exactly 20\n",
      "\n",
      "enter a number: 13.5\n",
      "\n",
      "Number is less than 20\n",
      "\n",
      "enter a number: 85.5\n",
      "\n",
      "Number is greater than 20\n"
     ]
    }
   ],
   "source": [
    "# Comparing numbers.\n",
    "#Executing the loop for 3 times. \n",
    "i = 0\n",
    "while i < 3:\n",
    "    a = float(input(\"\\nenter a number: \"))\n",
    "    if a > 20:\n",
    "        print(\"\\nNumber is greater than 20\")\n",
    "    elif a == 20:\n",
    "        print(\"\\nNumber is exactly 20\")\n",
    "    else:\n",
    "         print(\"\\nNumber is less than 20\")\n",
    "    i += 1"
   ]
  },
  {
   "cell_type": "code",
   "execution_count": null,
   "metadata": {
    "scrolled": false
   },
   "outputs": [],
   "source": [
    "# Comparing two inputs and checking if they BOTH match or not.\n",
    "# Loop runs for 2 times.\n",
    "i = 0\n",
    "while i < 2:\n",
    "    a = int(input(\"\\nEnter Value 1: \"))\n",
    "    b = int(input(\"Enter Value 2: \"))\n",
    "    print(\"\\nThe values entered are: \" + str(a)+\" and \" + str(b))\n",
    "    if a == 10 and b == 20:\n",
    "        print (\"\\nValues Match\")\n",
    "    else:\n",
    "        print(\"\\nValues Do Not Match\")\n",
    "    i += 1"
   ]
  },
  {
   "cell_type": "code",
   "execution_count": null,
   "metadata": {
    "scrolled": true
   },
   "outputs": [
    {
     "name": "stdout",
     "output_type": "stream",
     "text": [
      "\n",
      "Enter Value 1: 10\n",
      "Enter Value 2: 10\n",
      "The values entered are: 10 and 10\n",
      "\n",
      "Atleast One Value Matches\n"
     ]
    }
   ],
   "source": [
    "# Comparing two inputs and checking if ATLEAST one of them matches or not.\n",
    "# Loop runs for 2 times.\n",
    "i = 0\n",
    "while i < 2:\n",
    "    a = int(input(\"\\nEnter Value 1: \"))\n",
    "    b = int(input(\"Enter Value 2: \"))\n",
    "    print(\"The values entered are: \" + str(a)+\" and \" + str(b))\n",
    "    if a == 10 or b == 20:\n",
    "        print (\"\\nAtleast One Value Matches\")\n",
    "    else:\n",
    "        print(\"\\n Both Values Do Not Match\")\n",
    "    i += 1"
   ]
  },
  {
   "cell_type": "code",
   "execution_count": 143,
   "metadata": {
    "scrolled": true
   },
   "outputs": [
    {
     "name": "stdout",
     "output_type": "stream",
     "text": [
      "\n",
      "Enter your salary: 250\n",
      "The salary entered is: 250.0$ and our recommendation is:\n",
      "\n",
      "Work for a while and get a raise.\n"
     ]
    }
   ],
   "source": [
    "\"\"\"\n",
    "input for salary and checking if the user is eligible to buy a vehicle as per the conditions below:\n",
    "if Salary > 1500, user can buy a car.\n",
    "    if salary > 1500 & < 3500 - user can buy a Low Budget Car\n",
    "    if salary > 3500 - user can buy a Mid Budget Car\n",
    "if Salary > 700 & < 1500, user can buy a bike.\n",
    "    if salary > 700 - user can buy a Low Budget Bike\n",
    "    if salary > 1000 & < 1499.99 - user can buy a High Budget Bike\n",
    "if Salary > 300 & < 700, user can buy a scooter.\n",
    "if Salary < 300, user should work for a while and get a raise.\n",
    "is Sal < = 0, ask user to get a job    \n",
    "\n",
    "\"\"\" \n",
    "sal = float(input(\"\\nEnter your salary: \"))\n",
    "print(\"The salary entered is: \" + str(sal) + \"$ and our recommendation is:\")\n",
    "if sal >= 1500:\n",
    "    print(\"\\nYou are eligible to buy a car.\")\n",
    "    if sal > 3500:\n",
    "        print(\"You should buy a high budget car.\")  \n",
    "    else:\n",
    "        print(\"You should buy a low budget car\")\n",
    "elif sal >= 700:\n",
    "    print(\"\\nyou are eligible to buy a bike.\")\n",
    "    if sal > 1000 and sal < 1499.99:\n",
    "        print(\"You should buy a high budget bike.\")  \n",
    "    else:\n",
    "        print(\"You should buy a low budget bike.\")\n",
    "elif sal >= 300:\n",
    "    print (\"\\nYou should buy a scooter\")\n",
    "elif sal <= 0 :\n",
    "    print(\"\\nGet a job first.\")\n",
    "else:\n",
    "    print(\"\\nWork for a while and get a raise.\")"
   ]
  },
  {
   "cell_type": "code",
   "execution_count": 150,
   "metadata": {},
   "outputs": [
    {
     "name": "stdout",
     "output_type": "stream",
     "text": [
      "Enter a whole number:2555\n",
      "The number entered is: 2555\n",
      "\n",
      "2555 is an Odd Number\n",
      "2555 is divisible by 5\n"
     ]
    }
   ],
   "source": [
    "# Prog to input a number and check if it is an even or an even number and if it is dvisible by 5:\n",
    "a = int(input(\"Enter a whole number:\"))\n",
    "print(\"The number entered is: \" + str(a) + \"\\n\")\n",
    "if a % 2 == 0:\n",
    "    print(str (a) + \" is an Even Number\")\n",
    "else:\n",
    "    print(str (a) + \" is an Odd Number\")\n",
    "if a%5 == 0:\n",
    "    print(str (a) + \" is divisible by 5\")\n",
    "else:\n",
    "    print(str (a) + \" not divisible by 5\")"
   ]
  },
  {
   "cell_type": "code",
   "execution_count": 202,
   "metadata": {},
   "outputs": [
    {
     "name": "stdout",
     "output_type": "stream",
     "text": [
      "Enter a whole number: 5\n",
      "The number entered is: 5\n",
      "\n",
      "5 is neither divisible by 2 nor 3.\n"
     ]
    }
   ],
   "source": [
    "# Comparing two inputs and checking if the value is divisible by both 2 & 3.\n",
    "a = int(input(\"Enter a whole number: \"))\n",
    "print(\"The number entered is: \" + str(a) + \"\\n\")\n",
    "if a%2== 0 and a%3==0:\n",
    "    print(a,\"is divisible by both 2 and 3.\")\n",
    "elif  a%2== 0 and a%3!=0:\n",
    "    print(a,\"is divisible by only 2.\")\n",
    "elif  a%2!= 0 and a%3==0:\n",
    "    print(a,\"is divisible by only 3.\")\n",
    "else:\n",
    "    print(a,\"is neither divisible by 2 nor 3.\")"
   ]
  },
  {
   "cell_type": "code",
   "execution_count": 230,
   "metadata": {},
   "outputs": [
    {
     "name": "stdout",
     "output_type": "stream",
     "text": [
      "Enter Value 1: 20\n",
      "Enter Value 2: 20\n",
      "Are the two values same?: \n",
      "True\n"
     ]
    }
   ],
   "source": [
    "a = int(input(\"Enter Value 1: \"))\n",
    "b = int(input(\"Enter Value 2: \"))\n",
    "print(\"Are the two values same?: \" )\n",
    "if a==b:\n",
    "    print(\"True\")\n",
    "else:\n",
    "    print(\"False\")"
   ]
  },
  {
   "cell_type": "markdown",
   "metadata": {},
   "source": [
    "Complex Numbers:"
   ]
  },
  {
   "cell_type": "code",
   "execution_count": 6,
   "metadata": {},
   "outputs": [
    {
     "name": "stdout",
     "output_type": "stream",
     "text": [
      "(6+11j)\n",
      "(2-1j)\n",
      "(-22+34j)\n",
      "(0.95-0.35000000000000003j)\n"
     ]
    }
   ],
   "source": [
    "a = 4+5j\n",
    "b = 2+6j\n",
    "print(a+b)\n",
    "print(a-b)\n",
    "print(a*b)\n",
    "print(a/b)"
   ]
  },
  {
   "cell_type": "code",
   "execution_count": 8,
   "metadata": {},
   "outputs": [
    {
     "name": "stdout",
     "output_type": "stream",
     "text": [
      "The real part of complex number is :  2.0\n",
      "The imaginary part of complex number is : 6.0\n"
     ]
    }
   ],
   "source": [
    "z = 2+6j\n",
    "print (\"The real part of complex number is : \",z.real)\n",
    "\n",
    "print (\"The imaginary part of complex number is : \",end=\"\")\n",
    "print (z.imag)"
   ]
  },
  {
   "cell_type": "code",
   "execution_count": 9,
   "metadata": {},
   "outputs": [
    {
     "name": "stdout",
     "output_type": "stream",
     "text": [
      "(2-3j)\n",
      "(1+0j)\n",
      "0j\n",
      "(5-9j)\n"
     ]
    }
   ],
   "source": [
    "z = complex(2, -3)\n",
    "print(z)\n",
    "\n",
    "z = complex(1)\n",
    "print(z)\n",
    "\n",
    "z = complex()\n",
    "print(z)\n",
    "\n",
    "z = complex('5-9j')\n",
    "print(z)"
   ]
  }
 ],
 "metadata": {
  "kernelspec": {
   "display_name": "Python 3",
   "language": "python",
   "name": "python3"
  },
  "language_info": {
   "codemirror_mode": {
    "name": "ipython",
    "version": 3
   },
   "file_extension": ".py",
   "mimetype": "text/x-python",
   "name": "python",
   "nbconvert_exporter": "python",
   "pygments_lexer": "ipython3",
   "version": "3.8.5"
  }
 },
 "nbformat": 4,
 "nbformat_minor": 4
}
