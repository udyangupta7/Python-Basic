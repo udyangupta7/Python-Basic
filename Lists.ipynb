{
 "cells": [
  {
   "cell_type": "markdown",
   "metadata": {},
   "source": [
    "# 13th March:"
   ]
  },
  {
   "cell_type": "code",
   "execution_count": 2,
   "metadata": {},
   "outputs": [
    {
     "name": "stdout",
     "output_type": "stream",
     "text": [
      "\n",
      " 45\n",
      "\n",
      " ['yudi', 34]\n",
      "\n",
      " [[34, 45], 45]\n",
      "\n",
      " [[34, 45], 45, 34, 'yudi']\n"
     ]
    }
   ],
   "source": [
    "#Lists:\n",
    "l = [\"yudi\",34,45,[34,45]]\n",
    "print(\"\\n\",l[2])# data extraction\n",
    "print(\"\\n\",l[0:2])\n",
    "print(\"\\n\",l[3:1:-1])\n",
    "print(\"\\n\",l[::-1])"
   ]
  },
  {
   "cell_type": "code",
   "execution_count": 8,
   "metadata": {},
   "outputs": [
    {
     "name": "stdout",
     "output_type": "stream",
     "text": [
      "4\n",
      "\n",
      " ['yudi', 34, 45, [34, 45]]\n"
     ]
    }
   ],
   "source": [
    "# adding two lists:\n",
    "l = [\"yudi\",34,45,[34,45]]\n",
    "x =[\"hello\"]\n",
    "l+x\n",
    "l*2\n",
    "print(len(l))\n",
    "print(\"\\n\",l)"
   ]
  },
  {
   "cell_type": "code",
   "execution_count": 134,
   "metadata": {},
   "outputs": [
    {
     "name": "stdout",
     "output_type": "stream",
     "text": [
      "3\n",
      "\n",
      " [223, 2, 3]\n",
      "\n",
      " [354, 3, 2, 223]\n",
      "\n",
      " [[2, 3, 4, 5], 'john', 'udyan', 3, 354, 3, 2, 223, 34]\n"
     ]
    }
   ],
   "source": [
    "# list manipulations:\n",
    "# similar functions as strings\n",
    "l = [34,223,2,3,354,3,\"udyan\",\"john\",[2,3,4,5]]\n",
    "print(l[3]) #exactly like strings\n",
    "print(\"\\n\",l[1:4])\n",
    "print(\"\\n\",l[4:0:-1])\n",
    "print(\"\\n\",l[::-1])"
   ]
  },
  {
   "cell_type": "code",
   "execution_count": 13,
   "metadata": {},
   "outputs": [
    {
     "name": "stdout",
     "output_type": "stream",
     "text": [
      "\n",
      " [34, 223, 2, 3, 354, 3, 'udyan', 'john', [2, 3, 4, 5], 's', 't', 'u', 'n', 'n', 'i', 'n', 'g']\n",
      "\n",
      " [34, 223, 2, 3, 354, 3, 'udyan', 'john', [2, 3, 4, 5], 'stunning']\n",
      "\n",
      " [34, 223, 2, 3, 354, 3, 'udyan', 'john', [2, 3, 4, 5], 34, 223, 2, 3, 354, 3, 'udyan', 'john', [2, 3, 4, 5], 34, 223, 2, 3, 354, 3, 'udyan', 'john', [2, 3, 4, 5]]\n",
      "\n",
      " 9\n"
     ]
    }
   ],
   "source": [
    "# list concatination:\n",
    "# we need to typecaste a string, int. bool, into list first:\n",
    "l = [34,223,2,3,354,3,\"udyan\",\"john\",[2,3,4,5]]\n",
    "d = \"stunning\" # declaring a string\n",
    "print(\"\\n\",l+list(d)) # strings are saved in different indexes \n",
    "e = [\"stunning\"] # declaring a list\n",
    "print(\"\\n\",l+e) # list will be saved in one (last) index\n",
    "print(\"\\n\",l*3)\n",
    "print(\"\\n\",len(l))"
   ]
  },
  {
   "cell_type": "code",
   "execution_count": 15,
   "metadata": {},
   "outputs": [
    {
     "name": "stdout",
     "output_type": "stream",
     "text": [
      "\n",
      "list found. it is:  [(2+7j), 3, 'stunning', 4, 5]\n",
      "\n",
      "the reverse of the list is:  [5, 4, 'stunning', 3, (2+7j)]\n"
     ]
    }
   ],
   "source": [
    "# to check for a list inside a list:\n",
    "l = [34,223,2,3,354,3,\"udyan\",\"john\",[2+7j,3,\"stunning\",4,5]]\n",
    "for i in l:\n",
    "    if type(i) == list:\n",
    "        print(\"\\nlist found. it is: \", i)\n",
    "        print(\"\\nthe reverse of the list is: \",i[::-1])"
   ]
  },
  {
   "cell_type": "code",
   "execution_count": 17,
   "metadata": {},
   "outputs": [
    {
     "name": "stdout",
     "output_type": "stream",
     "text": [
      "\n",
      " True\n",
      "\n",
      " False\n"
     ]
    }
   ],
   "source": [
    "# To check if there is a pertiular data in strings.\n",
    "l = [3,4,2,6,1,\"udyan\",\"john\",[2,3,4,5]]\n",
    "print(\"\\n\",6 in l)\n",
    "print(\"\\n\",\"John\" in l) # Case sensitive "
   ]
  },
  {
   "cell_type": "markdown",
   "metadata": {},
   "source": [
    "# 14th March:"
   ]
  },
  {
   "cell_type": "code",
   "execution_count": 26,
   "metadata": {},
   "outputs": [
    {
     "name": "stdout",
     "output_type": "stream",
     "text": [
      "\n",
      "The list is: [3, True, 6, 1, 'udyan', 'john', [2, 3, 4, 5]]\n",
      "\n",
      "The data in the list is:\n",
      "3\n",
      "True\n",
      "6\n",
      "1\n",
      "udyan\n",
      "john\n",
      "[2, 3, 4, 5]\n",
      "\n",
      "A list found inside the list -  [3, True, 6, 1, 'udyan', 'john', [2, 3, 4, 5]]\n",
      "\n",
      "The list inside the list has the following data:\n",
      "2\n",
      "3\n",
      "4\n",
      "5\n",
      "\n",
      "The reverse is: [5, 4, 3, 2]\n"
     ]
    }
   ],
   "source": [
    "# To print all the data via referencing the indexes.\n",
    "# To check for a list inside a list, print the data inside it and print the reverse.\n",
    "l = [3,True,6,1,\"udyan\",\"john\",[2,3,4,5]]\n",
    "print(\"\\nThe list is:\",l)\n",
    "print(\"\\nThe data in the list is:\")\n",
    "for i in l:\n",
    "    print(i)\n",
    "for i in l:\n",
    "    if type(i) == list:\n",
    "        print(\"\\nA list found inside the list - \",l)\n",
    "print(\"\\nThe list inside the list has the following data:\")\n",
    "for i in l:\n",
    "    if type(i) == list:\n",
    "        for j in i:\n",
    "            print(j)\n",
    "        print(\"\\nThe reverse is:\",i[::-1])    "
   ]
  },
  {
   "cell_type": "code",
   "execution_count": 27,
   "metadata": {},
   "outputs": [
    {
     "name": "stdout",
     "output_type": "stream",
     "text": [
      "no list in [3, True, 6, 1, 'udyan', 'john', 2, 3, 4, 5]\n"
     ]
    }
   ],
   "source": [
    "ll = [3,True,6,1,\"udyan\",\"john\",2,3,4,5] \n",
    "for i in ll:\n",
    "    if type(i) == list:\n",
    "        print(\"list found in\",ll)      \n",
    "else: \n",
    "     print(\"no list in\", ll)"
   ]
  },
  {
   "cell_type": "code",
   "execution_count": 159,
   "metadata": {},
   "outputs": [
    {
     "data": {
      "text/plain": [
       "[3,\n",
       " True,\n",
       " 6,\n",
       " 1,\n",
       " 'udyan',\n",
       " 'john',\n",
       " [2, 3, 4, 5],\n",
       " 3,\n",
       " True,\n",
       " 6,\n",
       " 1,\n",
       " 'udyan',\n",
       " 'john',\n",
       " 2,\n",
       " 3,\n",
       " 4,\n",
       " 5]"
      ]
     },
     "execution_count": 159,
     "metadata": {},
     "output_type": "execute_result"
    }
   ],
   "source": [
    "l+ll # Concat aka appending"
   ]
  },
  {
   "cell_type": "code",
   "execution_count": 28,
   "metadata": {},
   "outputs": [
    {
     "data": {
      "text/plain": [
       "True"
      ]
     },
     "execution_count": 28,
     "metadata": {},
     "output_type": "execute_result"
    }
   ],
   "source": [
    "True in ll # checking if bool True is in the list 'll'"
   ]
  },
  {
   "cell_type": "code",
   "execution_count": 163,
   "metadata": {},
   "outputs": [
    {
     "data": {
      "text/plain": [
       "True"
      ]
     },
     "execution_count": 163,
     "metadata": {},
     "output_type": "execute_result"
    }
   ],
   "source": [
    "2 in ll# checking if int 2 is in the list 'll'"
   ]
  },
  {
   "cell_type": "code",
   "execution_count": 29,
   "metadata": {},
   "outputs": [
    {
     "name": "stdout",
     "output_type": "stream",
     "text": [
      "45\n",
      "2\n",
      "a\n",
      "aaa\n"
     ]
    },
    {
     "ename": "TypeError",
     "evalue": "'>' not supported between instances of 'str' and 'int'",
     "output_type": "error",
     "traceback": [
      "\u001b[1;31m---------------------------------------------------------------------------\u001b[0m",
      "\u001b[1;31mTypeError\u001b[0m                                 Traceback (most recent call last)",
      "\u001b[1;32m<ipython-input-29-546f4c26188c>\u001b[0m in \u001b[0;36m<module>\u001b[1;34m\u001b[0m\n\u001b[0;32m      3\u001b[0m \u001b[0mprint\u001b[0m\u001b[1;33m(\u001b[0m\u001b[0mmin\u001b[0m\u001b[1;33m(\u001b[0m\u001b[1;33m[\u001b[0m\u001b[1;34m\"a\"\u001b[0m\u001b[1;33m,\u001b[0m\u001b[1;34m\"aa\"\u001b[0m\u001b[1;33m,\u001b[0m\u001b[1;34m\"aaa\"\u001b[0m\u001b[1;33m]\u001b[0m\u001b[1;33m)\u001b[0m\u001b[1;33m)\u001b[0m\u001b[1;33m\u001b[0m\u001b[1;33m\u001b[0m\u001b[0m\n\u001b[0;32m      4\u001b[0m \u001b[0mprint\u001b[0m\u001b[1;33m(\u001b[0m\u001b[0mmax\u001b[0m\u001b[1;33m(\u001b[0m\u001b[1;33m[\u001b[0m\u001b[1;34m\"a\"\u001b[0m\u001b[1;33m,\u001b[0m\u001b[1;34m\"aa\"\u001b[0m\u001b[1;33m,\u001b[0m\u001b[1;34m\"aaa\"\u001b[0m\u001b[1;33m]\u001b[0m\u001b[1;33m)\u001b[0m\u001b[1;33m)\u001b[0m\u001b[1;33m\u001b[0m\u001b[1;33m\u001b[0m\u001b[0m\n\u001b[1;32m----> 5\u001b[1;33m \u001b[0mprint\u001b[0m\u001b[1;33m(\u001b[0m\u001b[0mmax\u001b[0m\u001b[1;33m(\u001b[0m\u001b[1;33m[\u001b[0m\u001b[1;36m2\u001b[0m\u001b[1;33m,\u001b[0m\u001b[1;36m3\u001b[0m\u001b[1;33m,\u001b[0m\u001b[1;36m5\u001b[0m\u001b[1;33m,\u001b[0m\u001b[1;36m4\u001b[0m\u001b[1;33m,\u001b[0m\u001b[1;34m\"yudi\"\u001b[0m\u001b[1;33m]\u001b[0m\u001b[1;33m)\u001b[0m\u001b[1;33m)\u001b[0m \u001b[1;31m#error cuz cant comp int and string\u001b[0m\u001b[1;33m\u001b[0m\u001b[1;33m\u001b[0m\u001b[0m\n\u001b[0m",
      "\u001b[1;31mTypeError\u001b[0m: '>' not supported between instances of 'str' and 'int'"
     ]
    }
   ],
   "source": [
    "print(max([2,3,5,4,45]))\n",
    "print(min([2,3,5,4,45]))\n",
    "print(min([\"a\",\"aa\",\"aaa\"]))\n",
    "print(max([\"a\",\"aa\",\"aaa\"]))\n",
    "print(max([2,3,5,4,\"yudi\"])) #error cuz cant comp int and string"
   ]
  },
  {
   "cell_type": "code",
   "execution_count": 173,
   "metadata": {},
   "outputs": [
    {
     "data": {
      "text/plain": [
       "[3, True, 6, 1, 'udyan', 'john', 2, 3, 4, 5]"
      ]
     },
     "execution_count": 173,
     "metadata": {},
     "output_type": "execute_result"
    }
   ],
   "source": [
    " ll"
   ]
  },
  {
   "cell_type": "code",
   "execution_count": 34,
   "metadata": {},
   "outputs": [
    {
     "name": "stdout",
     "output_type": "stream",
     "text": [
      "\n",
      "The new appended list -  [3, True, 6, 1, 'udyan', 'john', 2, 3, 4, 5, (6+6j)]\n"
     ]
    }
   ],
   "source": [
    "ll = [3,True,6,1,\"udyan\",\"john\",2,3,4,5] \n",
    "ll.append(6+6j) #complex no\n",
    "print(\"\\nThe new appended list - \",ll)"
   ]
  },
  {
   "cell_type": "code",
   "execution_count": 35,
   "metadata": {},
   "outputs": [
    {
     "data": {
      "text/plain": [
       "[3, True, 6, 1, 'udyan', 'john', 2, 3, 4, 5, (6+6j), 'yudi']"
      ]
     },
     "execution_count": 35,
     "metadata": {},
     "output_type": "execute_result"
    }
   ],
   "source": [
    "d = [\"yudi\"] \n",
    "ll+d #same as append"
   ]
  },
  {
   "cell_type": "code",
   "execution_count": 37,
   "metadata": {},
   "outputs": [
    {
     "name": "stdout",
     "output_type": "stream",
     "text": [
      "The string:  [3, True, 'yemen', 6, 1, 'udyan', 'john', 2, 3, 4, 5, 'YOLO', (6+6j)]\n",
      "\n",
      " the new string:  [3, True, 'yemen', 'yemen', 6, 1, 'udyan', 'john', 2, 3, 4, 5, 'YOLO', (6+6j)]\n",
      "\n",
      " the new string:  [3, True, 'yemen', 'yemen', 6, 1, 'udyan', 'john', 2, 3, 4, 5, 'YOLO', 'YOLO', (6+6j)]\n"
     ]
    }
   ],
   "source": [
    "# using insert, we can insert an element at any index:\n",
    "print(\"The string: \",ll)\n",
    "ll.insert(2,\"yemen\") # insert(index, object)\n",
    "print(\"\\n the new string: \",ll) \n",
    "ll.insert(-1,\"YOLO\") # from right insert(index, object)\n",
    "print(\"\\n the new string: \",ll) "
   ]
  },
  {
   "cell_type": "code",
   "execution_count": 39,
   "metadata": {},
   "outputs": [
    {
     "data": {
      "text/plain": [
       "[3,\n",
       " True,\n",
       " 'yemen',\n",
       " 'yemen',\n",
       " 6,\n",
       " 1,\n",
       " 'udyan',\n",
       " 'john',\n",
       " 2,\n",
       " 3,\n",
       " 4,\n",
       " 5,\n",
       " 'YOLO',\n",
       " 'YOLO',\n",
       " (6+6j)]"
      ]
     },
     "execution_count": 39,
     "metadata": {},
     "output_type": "execute_result"
    }
   ],
   "source": [
    "ll"
   ]
  },
  {
   "cell_type": "code",
   "execution_count": 43,
   "metadata": {},
   "outputs": [
    {
     "name": "stdout",
     "output_type": "stream",
     "text": [
      "\n",
      " 2\n",
      "\n",
      " 4\n",
      "\n",
      " None\n",
      "\n",
      "the new string is: [3, True, 'yemen', 'yemen', 6, 1, 'udyan', 'john', 2, 3, 4, 5, 'YOLO', 'YOLO', (6+6j), 4, 'h', 'e', 'l', 'l', 'o', 4, '2', 4, 4]\n",
      "\n",
      " None\n",
      "\n",
      " [3, True, 'yemen', 'yemen', 6, 1, 'udyan', 'john', 2, 3, 4, 5, 'YOLO', 'YOLO', (6+6j), 4, 'h', 'e', 'l', 'l', 'o', 4, '2', 4, 4, 'h', 'e', 'l', 'l', 'o']\n"
     ]
    }
   ],
   "source": [
    "print(\"\\n\",ll.count(\"yemen\")) # counts the occurences\n",
    "print(\"\\n\",ll.count(4)) # counts the occurences\n",
    "print(\"\\n\",ll.append(4)) # inserts as it is in the last index\n",
    "print(\"\\nthe new string is:\",ll)\n",
    "# the following function adds each character as an index at the end\n",
    "# it cant work with numbers as they arent iterable objects.\n",
    "print(\"\\n\",ll.extend(\"hello\")) \n",
    "print(\"\\n\",ll)"
   ]
  },
  {
   "cell_type": "code",
   "execution_count": 45,
   "metadata": {},
   "outputs": [
    {
     "name": "stdout",
     "output_type": "stream",
     "text": [
      "[2, 3, True, 7, 9, 'aa', 'ares', (5+7j), 4.43, 'ews']\n",
      "\n",
      " [2, 3, True, 7, 9, 'aa', 'ares', (5+7j), 4.43, 'ews', [2, 3, 5]]\n",
      "\n",
      " [2, 3, True, 7, 9, 'aa', 'ares', (5+7j), 4.43, 'ews', [2, 3, 5], 22, 33, 55]\n"
     ]
    }
   ],
   "source": [
    "lll = [2,3,True,7,9,\"aa\",\"ares\",5+7j,4.43,\"ews\"]\n",
    "print(lll)\n",
    "lll.append([2,3,5]) # adds a list as it is\n",
    "print(\"\\n\",lll)\n",
    "lll.extend([22,33,55]) # breaks a list and adds as a part of the main list\n",
    "print(\"\\n\",lll)"
   ]
  },
  {
   "cell_type": "code",
   "execution_count": 232,
   "metadata": {
    "scrolled": true
   },
   "outputs": [
    {
     "name": "stdout",
     "output_type": "stream",
     "text": [
      "False is a boolean data type.\n",
      "2 is not a boolean data type\n",
      "5 is not a boolean data type\n",
      "True is a boolean data type.\n",
      "False is a boolean data type.\n",
      "9 is not a boolean data type\n",
      "aa is not a boolean data type\n",
      "ares is not a boolean data type\n",
      "(5+7j) is not a boolean data type\n",
      "4.43 is not a boolean data type\n",
      "ews is not a boolean data type\n"
     ]
    }
   ],
   "source": [
    "l = [False,2,5,True,False,9,\"aa\",\"ares\",5+7j,4.43,\"ews\"]\n",
    "x=0\n",
    "for i in l:\n",
    "    if type(i) == bool:\n",
    "        x+=1\n",
    "        print(i,\"is a boolean data type.\")\n",
    "    else:\n",
    "        print(i,\"is not a boolean data type\")"
   ]
  },
  {
   "cell_type": "code",
   "execution_count": 47,
   "metadata": {},
   "outputs": [
    {
     "name": "stdout",
     "output_type": "stream",
     "text": [
      "1\n"
     ]
    }
   ],
   "source": [
    "l = [False,2,5,True,False,9,\"aa\",\"ares\",5+7j,4.43,\"ews\"]\n",
    "print(l.index(2)) # prints the first index no of 2"
   ]
  },
  {
   "cell_type": "markdown",
   "metadata": {},
   "source": [
    "A program to find number 3 in the given list and print it's indexes:"
   ]
  },
  {
   "cell_type": "code",
   "execution_count": 262,
   "metadata": {},
   "outputs": [
    {
     "name": "stdout",
     "output_type": "stream",
     "text": [
      "3 is at index no: 2\n",
      "3 is at index no: 2\n",
      "3 is at index no: 2\n",
      "\n",
      "No of occurances: 3\n"
     ]
    }
   ],
   "source": [
    "l = [False,2,3,5,True,False,3,4.43,\"aa\",\"ares\",5+7j,3,4.43,\"ews\"]\n",
    "g = 0\n",
    "for i in l:\n",
    "    if i == 3:\n",
    "        g+=1\n",
    "        print(\"3 is at index no:\",l.index(i))\n",
    "print(\"\\nNo of occurances:\",g)"
   ]
  },
  {
   "cell_type": "code",
   "execution_count": 267,
   "metadata": {},
   "outputs": [
    {
     "name": "stdout",
     "output_type": "stream",
     "text": [
      "\n",
      " 3\n",
      "\n",
      " [False, 2, 5, True, False, 3, 4.43, 'aa', 'ares', (5+7j), 3, 4.43, 'ews']\n",
      "\n",
      " ews\n",
      "\n",
      " [False, 2, 5, True, False, 3, 4.43, 'aa', 'ares', (5+7j), 3, 4.43]\n",
      "\n",
      " False\n",
      "\n",
      " [2, 5, True, False, 3, 4.43, 'aa', 'ares', (5+7j), 3, 4.43]\n"
     ]
    }
   ],
   "source": [
    "l = [False,2,3,5,True,False,3,4.43,\"aa\",\"ares\",5+7j,3,4.43,\"ews\"]\n",
    "print(\"\\n\",l.pop(2)) # Deletes 3rd value( 2nd index) from the first index \n",
    "print(\"\\n\",l)\n",
    "print(\"\\n\",l.pop()) # Deletes value from the last index\n",
    "print(\"\\n\",l)\n",
    "print(\"\\n\",l.pop(0)) # Deletes value from the first index\n",
    "print(\"\\n\",l)"
   ]
  },
  {
   "cell_type": "markdown",
   "metadata": {},
   "source": [
    " pop wont delete all matching values but rather the first matching value it finds while indexing"
   ]
  },
  {
   "cell_type": "code",
   "execution_count": 272,
   "metadata": {},
   "outputs": [
    {
     "name": "stdout",
     "output_type": "stream",
     "text": [
      "\n",
      " [4.43, 3, (5+7j), 'ares', 'aa', 5, 4.43, 3, 2, True, False]\n"
     ]
    },
    {
     "ename": "TypeError",
     "evalue": "'<' not supported between instances of 'complex' and 'int'",
     "output_type": "error",
     "traceback": [
      "\u001b[1;31m---------------------------------------------------------------------------\u001b[0m",
      "\u001b[1;31mTypeError\u001b[0m                                 Traceback (most recent call last)",
      "\u001b[1;32m<ipython-input-272-71f9045dcd66>\u001b[0m in \u001b[0;36m<module>\u001b[1;34m\u001b[0m\n\u001b[0;32m      1\u001b[0m \u001b[0ml\u001b[0m\u001b[1;33m.\u001b[0m\u001b[0mreverse\u001b[0m\u001b[1;33m(\u001b[0m\u001b[1;33m)\u001b[0m\u001b[1;33m\u001b[0m\u001b[1;33m\u001b[0m\u001b[0m\n\u001b[0;32m      2\u001b[0m \u001b[0mprint\u001b[0m\u001b[1;33m(\u001b[0m\u001b[1;34m\"\\n\"\u001b[0m\u001b[1;33m,\u001b[0m\u001b[0ml\u001b[0m\u001b[1;33m)\u001b[0m\u001b[1;33m\u001b[0m\u001b[1;33m\u001b[0m\u001b[0m\n\u001b[1;32m----> 3\u001b[1;33m \u001b[0ml\u001b[0m\u001b[1;33m.\u001b[0m\u001b[0msort\u001b[0m\u001b[1;33m(\u001b[0m\u001b[1;33m)\u001b[0m \u001b[1;31m# error because it cant sort multiple data types together.\u001b[0m\u001b[1;33m\u001b[0m\u001b[1;33m\u001b[0m\u001b[0m\n\u001b[0m",
      "\u001b[1;31mTypeError\u001b[0m: '<' not supported between instances of 'complex' and 'int'"
     ]
    }
   ],
   "source": [
    "l.reverse()\n",
    "print(\"\\n\",l)\n",
    "l.sort() # error because it cant sort multiple data types together."
   ]
  },
  {
   "cell_type": "code",
   "execution_count": 69,
   "metadata": {},
   "outputs": [
    {
     "name": "stdout",
     "output_type": "stream",
     "text": [
      "The old string: [[3, 4, 5], [6, 78], [(9+9j), 2, 3, 'Cardi', 'B', 'Hello'], [45.67, 23, 'hello', 'yellow'], [3, 4, 5]]\n",
      "\n",
      "The new string: [[3, 4, 5], [6, 78], (3+4j), [(9+9j), 2, 3, 'Cardi', 'B', 'Hello'], [45.67, 23, 'hello', 'yellow'], (4+5j), [3, 4, 5]]\n",
      "\n",
      "The second element of each list: \n",
      "4\n",
      "78\n",
      "2\n",
      "23\n",
      "4\n"
     ]
    }
   ],
   "source": [
    "l=[[3,4,5],[6,78],[9+9j,2,3,\"Cardi\",\"B\",\"Hello\"],[45.67,23,\"hello\",\"yellow\"],[3,4,5]]\n",
    "print(\"The old string:\",l)\n",
    "\n",
    "# 1: append any two more complex numbers inbetween l\n",
    "l.insert(2,3+4j)\n",
    "l.insert(5, 4+5j)\n",
    "print(\"\\nThe new string:\",l)\n",
    "\n",
    "# 2 : find the index of the string and remove it.\n",
    "#ERROR. TBD!!!\n",
    "\n",
    "# 3: print the 2nd element of each nested list.\n",
    "print(\"\\nThe second element of each list: \")\n",
    "for i in l:\n",
    "    if type(i) == list:\n",
    "        print(i.pop(1))"
   ]
  },
  {
   "cell_type": "code",
   "execution_count": 70,
   "metadata": {},
   "outputs": [
    {
     "name": "stdout",
     "output_type": "stream",
     "text": [
      "Enter a value:3\n",
      "Enter a value:2\n",
      "Enter a value:3\n",
      "Enter a value:4\n",
      "Enter a value:6\n",
      "\n",
      "The list is: [(3+0j), (2+0j), (3+0j), (4+0j), (6+0j)]\n"
     ]
    }
   ],
   "source": [
    "# A list with user input:\n",
    "# The data type will be same and if we do not define the data type, it will be string by default.\n",
    "l=[] #declaring that l is a list.\n",
    "for i in range(5):\n",
    "    l.append(complex(input(\"Enter a value:\"))) #all values will be complex\n",
    "print(\"\\nThe list is:\",l)"
   ]
  },
  {
   "cell_type": "code",
   "execution_count": 74,
   "metadata": {},
   "outputs": [
    {
     "name": "stdout",
     "output_type": "stream",
     "text": [
      "\n",
      "The list is:  [1, 2, 3, 4, 5]\n",
      "Enter a string to be added in the list: hello world\n",
      "\n",
      "The list is:  [1, 2, 3, 4, 5, 'h', 'e', 'l', 'l', 'o', ' ', 'w', 'o', 'r', 'l', 'd']\n"
     ]
    },
    {
     "data": {
      "text/plain": [
       "['h', 'e', 'l', 'l', 'o', ' ', 'w', 'o', 'r', 'l', 'd']"
      ]
     },
     "execution_count": 74,
     "metadata": {},
     "output_type": "execute_result"
    }
   ],
   "source": [
    "#inserting a character inside a list:\n",
    "l = [1,2,3,4,5]\n",
    "ll = []\n",
    "print(\"\\nThe list is: \" ,l)\n",
    "x = input(\"Enter a string to be added in the list: \")\n",
    "for i in x:\n",
    "    l.append(i)\n",
    "print(\"\\nThe list is: \",l)\n",
    "\n",
    "# reducing the line of codes (aka list comprehension):\n",
    "[i for i in x] #iterating for all indexes of x"
   ]
  },
  {
   "cell_type": "code",
   "execution_count": 1,
   "metadata": {},
   "outputs": [
    {
     "data": {
      "text/plain": [
       "['y', 'u', 'd', 'i']"
      ]
     },
     "execution_count": 1,
     "metadata": {},
     "output_type": "execute_result"
    }
   ],
   "source": [
    "# reducing the line of codes (aka list comprehension):\n",
    "[i for i in \"yudi\"] #iterating for all indexes of \"sudh\""
   ]
  },
  {
   "cell_type": "code",
   "execution_count": 2,
   "metadata": {},
   "outputs": [
    {
     "data": {
      "text/plain": [
       "[['y'], ['u'], ['d'], ['i']]"
      ]
     },
     "execution_count": 2,
     "metadata": {},
     "output_type": "execute_result"
    }
   ],
   "source": [
    "# list of list:\n",
    "[[i] for i in \"yudi\"] #iterating for all indexes of x and printing in a list"
   ]
  },
  {
   "cell_type": "code",
   "execution_count": 75,
   "metadata": {},
   "outputs": [
    {
     "name": "stdout",
     "output_type": "stream",
     "text": [
      "Enter a number: 55\n"
     ]
    },
    {
     "data": {
      "text/plain": [
       "['bye']"
      ]
     },
     "execution_count": 75,
     "metadata": {},
     "output_type": "execute_result"
    }
   ],
   "source": [
    "[\"hello\" if int(input(\"Enter a number: \")) <= 5 else \"bye\"]"
   ]
  },
  {
   "cell_type": "code",
   "execution_count": 76,
   "metadata": {},
   "outputs": [
    {
     "name": "stdout",
     "output_type": "stream",
     "text": [
      "[2, 3, 4, 5, 6] \n",
      "\n",
      "2\n",
      "3\n",
      "4\n",
      "5\n",
      "6\n",
      "\n",
      "\n",
      "2\n",
      "3\n",
      "4\n",
      "5\n",
      "6\n",
      "\n",
      "\n",
      "[2, 3, 4, 5, 6]\n",
      "[2, 3, 4, 5, 6]\n",
      "[2, 3, 4, 5, 6]\n",
      "[2, 3, 4, 5, 6]\n",
      "[2, 3, 4, 5, 6]\n"
     ]
    }
   ],
   "source": [
    "a = [2,3,4,5,6]\n",
    "print(a,\"\\n\")\n",
    "for i in a:\n",
    "    print(i)\n",
    "print(\"\\n\")\n",
    "for i in range(len(a)):\n",
    "    print(a[i])\n",
    "print(\"\\n\")\n",
    "for i in range(len(a)):\n",
    "    print(a)\n"
   ]
  },
  {
   "cell_type": "code",
   "execution_count": 5,
   "metadata": {},
   "outputs": [
    {
     "name": "stdout",
     "output_type": "stream",
     "text": [
      "Enter the number of columns in the matrix: 3\n",
      "Enter the number of rows the matrix: 3\n",
      "\n",
      "The matrix is: \n",
      " [[0, 1, 2], [0, 1, 2], [0, 1, 2]]\n"
     ]
    }
   ],
   "source": [
    "mat = []\n",
    "n = int(input(\"Enter the number of columns in the matrix: \"))\n",
    "m = int(input(\"Enter the number of rows the matrix: \"))\n",
    "for i in range(m):\n",
    "    mat.append([])\n",
    "    for j in range(n):\n",
    "        mat[i].append(j)\n",
    "print(\"\\nThe matrix is: \\n\",mat)"
   ]
  },
  {
   "cell_type": "code",
   "execution_count": 6,
   "metadata": {},
   "outputs": [
    {
     "name": "stdout",
     "output_type": "stream",
     "text": [
      "Enter the number of columns in the matrix: 4\n",
      "Enter the number of rows the matrix: 9\n",
      "The mat is : [[0, 1, 2, 3], [0, 1, 2, 3], [0, 1, 2, 3], [0, 1, 2, 3], [0, 1, 2, 3], [0, 1, 2, 3], [0, 1, 2, 3], [0, 1, 2, 3], [0, 1, 2, 3]]\n"
     ]
    }
   ],
   "source": [
    "# List cpmprehension for a matrix (as above):\n",
    "n = int(input(\"Enter the number of columns in the matrix: \"))\n",
    "m = int(input(\"Enter the number of rows the matrix: \"))\n",
    "z = [[j for j in range(n)]for i in range(m)]\n",
    "print(\"The mat is :\",z)"
   ]
  },
  {
   "cell_type": "code",
   "execution_count": 5,
   "metadata": {},
   "outputs": [
    {
     "name": "stdout",
     "output_type": "stream",
     "text": [
      "Enter an occurance:5\n",
      "The mat is : [0, 1, 2, 3, 4]\n"
     ]
    }
   ],
   "source": [
    "n = int(input(\"Enter an occurance:\"))\n",
    "x = [i for i in range(n)]\n",
    "print(\"The mat is :\",x)"
   ]
  },
  {
   "cell_type": "code",
   "execution_count": 26,
   "metadata": {},
   "outputs": [
    {
     "name": "stdout",
     "output_type": "stream",
     "text": [
      "The list is:  [2, 6, 3, 5, True, False, 3, 4.43, 'aa', 'ares', (5+7j), 3, 4.43, 'ews']\n",
      "Enter the value to be searched in the list: 3\n",
      "The indexes for  3  is :  [2, 6, 11]\n",
      "The occurence of 3  in the list is : 3\n"
     ]
    }
   ],
   "source": [
    "l = [2,6,3,5,True,False,3,4.43,\"aa\",\"ares\",5+7j,3,4.43,\"ews\"]\n",
    "j = 0\n",
    "k = []\n",
    "print(\"The list is: \",l)\n",
    "c = int(input(\"Enter the value to be searched in the list: \")) # for only integers.\n",
    "for i in range(0,len(l)):\n",
    "    if l[i]==c:\n",
    "        k.append(i)\n",
    "        j+=1\n",
    "print(\"The indexes for \",c,\" is : \",k)\n",
    "print(\"The occurence of\",c,\" in the list is :\",j)"
   ]
  },
  {
   "cell_type": "code",
   "execution_count": 61,
   "metadata": {},
   "outputs": [
    {
     "name": "stdout",
     "output_type": "stream",
     "text": [
      "Enter the digit for the table: 5\n",
      "The table of 5  is:\n"
     ]
    },
    {
     "data": {
      "text/plain": [
       "[5, 10, 15, 20, 25, 30, 35, 40, 45, 50]"
      ]
     },
     "execution_count": 61,
     "metadata": {},
     "output_type": "execute_result"
    }
   ],
   "source": [
    "# Printing a table with an user input using list comprehension.\n",
    "n = int(input(\"Enter the digit for the table: \"))\n",
    "print(\"The table of\",n,\" is:\")\n",
    "[i*n for i in range(1,11)] "
   ]
  },
  {
   "cell_type": "code",
   "execution_count": 54,
   "metadata": {},
   "outputs": [
    {
     "name": "stdout",
     "output_type": "stream",
     "text": [
      "Enter the digit for the table: 65\n",
      "The table of 65  is:\n",
      "\n",
      "65  X  1  =  65\n",
      "65  X  2  =  130\n",
      "65  X  3  =  195\n",
      "65  X  4  =  260\n",
      "65  X  5  =  325\n",
      "65  X  6  =  390\n",
      "65  X  7  =  455\n",
      "65  X  8  =  520\n",
      "65  X  9  =  585\n",
      "65  X  10  =  650\n"
     ]
    }
   ],
   "source": [
    "# Printing a table with an user input using for loop:\n",
    "n = int(input(\"Enter the digit for the table: \"))\n",
    "print(\"The table of\",n,\" is:\\n\")\n",
    "for i in range(1,11):\n",
    "    print(n,\" X \",i,\" = \",i*n)"
   ]
  },
  {
   "cell_type": "code",
   "execution_count": 57,
   "metadata": {},
   "outputs": [
    {
     "data": {
      "text/plain": [
       "[0, 6, 12, 18, 24, 30, 36, 42, 48]"
      ]
     },
     "execution_count": 57,
     "metadata": {},
     "output_type": "execute_result"
    }
   ],
   "source": [
    "# we can do multiple if conditions in comprehension as well.\n",
    "\n",
    "[i for i in range(50) if i%2==0 if i%3==0]"
   ]
  },
  {
   "cell_type": "code",
   "execution_count": 8,
   "metadata": {},
   "outputs": [
    {
     "name": "stdout",
     "output_type": "stream",
     "text": [
      "[0, 6, 12, 18, 24, 30, 36, 42, 48]\n"
     ]
    }
   ],
   "source": [
    "l = []\n",
    "for i in range(50):\n",
    "    if i%2==0 and i%3==0:\n",
    "        l.append(i)\n",
    "print(l)"
   ]
  },
  {
   "cell_type": "code",
   "execution_count": 66,
   "metadata": {},
   "outputs": [
    {
     "data": {
      "text/plain": [
       "['odd', 'even', 'odd', 'even', 'odd', 'even', 'odd', 'even', 'odd', 'even']"
      ]
     },
     "execution_count": 66,
     "metadata": {},
     "output_type": "execute_result"
    }
   ],
   "source": [
    "[\"even\" if int(i%2==0) else \"odd\" for i in range(1,11)]"
   ]
  },
  {
   "cell_type": "code",
   "execution_count": 10,
   "metadata": {},
   "outputs": [
    {
     "data": {
      "text/plain": [
       "[1, 2, 3, 4, 5, 6, 7, 8, 9, 10]"
      ]
     },
     "execution_count": 10,
     "metadata": {},
     "output_type": "execute_result"
    }
   ],
   "source": [
    "[i for i in range(1,11)]"
   ]
  },
  {
   "cell_type": "code",
   "execution_count": 69,
   "metadata": {},
   "outputs": [
    {
     "name": "stdout",
     "output_type": "stream",
     "text": [
      "Enter the number of entries for the list:3\n",
      "\n",
      "\n",
      "Give an int type entry for the list:1\n",
      "Give an int type entry for the list:1\n",
      "Give an int type entry for the list:1\n",
      "\n",
      "The list is: \n",
      " [1, 1, 1]\n",
      "Enter a number for it's index and occurance: \n",
      "1\n",
      "The number is at indexes: \n",
      " [0, 1, 2]\n",
      "The number of occuances for 1 is: 3\n"
     ]
    }
   ],
   "source": [
    "# To print:\n",
    "# a. a list of the user input.\n",
    "# b. to check for the input by a user and decide its data type.\n",
    "# c. to find the indexes for a number.\n",
    "m = int(input(\"Enter the number of entries for the list:\"))\n",
    "print(\"\\n\")\n",
    "l=[]\n",
    "for i in range(0,m):\n",
    "    n = int(input(\"Give an int type entry for the list:\"))\n",
    "    l.insert(i,n)\n",
    "print(\"\\nThe list is: \\n\",l)\n",
    "ll=l\n",
    "g = 0\n",
    "e = []\n",
    "x = int(input(\"Enter a number for it's index and occurance: \\n\"))\n",
    "for i in range(0,len(ll)):\n",
    "    if ll[i] == x:\n",
    "        e.append(i)\n",
    "        g +=1\n",
    "    else:\n",
    "        print(\"\\n\",x,\"is not in list.\\n\")\n",
    "        break\n",
    "print(\"The number is at indexes: \\n\", e)\n",
    "print(\"The number of occuances for\",x,\"is:\", g)"
   ]
  },
  {
   "cell_type": "code",
   "execution_count": 10,
   "metadata": {},
   "outputs": [
    {
     "name": "stdout",
     "output_type": "stream",
     "text": [
      "['Medium', 'Python', 'Machine Learning', 'Hello', 'Data Science', 1]\n"
     ]
    }
   ],
   "source": [
    "# list of strings\n",
    "string_list = ['Medium',\"Python\",'Machine Learning','Hello', 'Data Science']\n",
    "\n",
    "#adding a new int item to the string_list\n",
    "string_list.append(1)\n",
    "\n",
    "#printing appended list\n",
    "print(string_list)"
   ]
  },
  {
   "cell_type": "code",
   "execution_count": 10,
   "metadata": {},
   "outputs": [
    {
     "name": "stdout",
     "output_type": "stream",
     "text": [
      "[0, 1, 2, 3, 4, 5, 6, 7, 8, 9]\n",
      "[1, 2, 3, 4, 5, 6, 7, 8, 9, 10]\n"
     ]
    }
   ],
   "source": [
    "old_list = [0,1,2,3,4,5,6,7,8,9]\n",
    "new_list = []\n",
    "for i in old_list:\n",
    "    new_list.append(i+1)\n",
    "print(old_list)\n",
    "print(new_list)"
   ]
  },
  {
   "cell_type": "code",
   "execution_count": 11,
   "metadata": {},
   "outputs": [
    {
     "data": {
      "text/plain": [
       "[1, 2, 3, 4, 5, 6, 7, 8, 9, 10]"
      ]
     },
     "execution_count": 11,
     "metadata": {},
     "output_type": "execute_result"
    }
   ],
   "source": [
    "old_list = [0,1,2,3,4,5,6,7,8,9]\n",
    "new_list = []\n",
    "[i+1 for i in old_list]"
   ]
  },
  {
   "cell_type": "code",
   "execution_count": 17,
   "metadata": {},
   "outputs": [
    {
     "name": "stdout",
     "output_type": "stream",
     "text": [
      "The number of entries:- 3\n",
      "Enter a data:- 1\n",
      "Enter a data:- 2\n",
      "Enter a data:- 3\n",
      "\n",
      "List before swapping:-  ['1', '2', '3'] \n",
      "\n",
      "The first entry to be swapped:- 2\n",
      "The second entry to be swapped:- 3\n",
      "Swapped list:-  ['1', '3', '2']\n"
     ]
    }
   ],
   "source": [
    "l = []\n",
    "g = []\n",
    "f = int(input(\"The number of entries:- \"))\n",
    "for i in range(f):\n",
    "    a = str(input(\"Enter a data:- \"))\n",
    "    l.append(a)\n",
    "print(\"\\nList before swapping:- \",l,\"\\n\")\n",
    "s = str(input(\"The first entry to be swapped:- \"))\n",
    "t = str(input(\"The second entry to be swapped:- \"))\n",
    "for i in l:\n",
    "    if i == s:\n",
    "        g.append(t)\n",
    "    if i == t:\n",
    "        g.append(s)\n",
    "    if i!=s and i!=t:\n",
    "        g.append(i)\n",
    "print(\"Swapped list:- \",g)"
   ]
  },
  {
   "cell_type": "code",
   "execution_count": 6,
   "metadata": {},
   "outputs": [
    {
     "name": "stdout",
     "output_type": "stream",
     "text": [
      "The number of entries:- 3\n",
      "Enter a data:- 11\n",
      "Enter a data:- 2\n",
      "Enter a data:- 3\n",
      "\n",
      "List:-  [11, 2, 3] \n",
      "\n",
      "Multiplied numbers:-  66\n"
     ]
    }
   ],
   "source": [
    "# Prog to multiply all the elements in a list: \n",
    "l = []\n",
    "a = 0\n",
    "f = int(input(\"The number of entries:- \"))\n",
    "for i in range(f):\n",
    "    a = int(input(\"Enter a data:- \"))\n",
    "    l.append(a)\n",
    "print(\"\\nList:- \",l,\"\\n\")\n",
    "g = 1\n",
    "for i in l:\n",
    "    if type(i) == int:\n",
    "        g *= i        \n",
    "print(\"Multiplied numbers:- \",g)"
   ]
  },
  {
   "cell_type": "code",
   "execution_count": 49,
   "metadata": {},
   "outputs": [
    {
     "name": "stdout",
     "output_type": "stream",
     "text": [
      "The number of entries:- 5\n",
      "Enter a data:- 111\n",
      "Enter a data:- 2222\n",
      "Enter a data:- 32\n",
      "Enter a data:- 122\n",
      "Enter a data:- 3\n",
      "\n",
      "List:-  ['111', '2222', '32', '122', '3'] \n",
      "\n",
      "List with >2 characters:-  ['111', '2222', '122']\n",
      "Count:-  3\n"
     ]
    }
   ],
   "source": [
    "l = []\n",
    "g = []\n",
    "h = 0\n",
    "f = int(input(\"The number of entries:- \"))\n",
    "for i in range(f):\n",
    "    a = str(input(\"Enter a data:- \"))\n",
    "    l.append(a)\n",
    "print(\"\\nList:- \",l,\"\\n\")\n",
    "for i in l:\n",
    "    if len(i) > 2:\n",
    "        g.append(i)\n",
    "        h += 1\n",
    "print(\"List with > 2 characters:- \",g)\n",
    "print(\"Count:- \",h)"
   ]
  }
 ],
 "metadata": {
  "kernelspec": {
   "display_name": "Python 3",
   "language": "python",
   "name": "python3"
  },
  "language_info": {
   "codemirror_mode": {
    "name": "ipython",
    "version": 3
   },
   "file_extension": ".py",
   "mimetype": "text/x-python",
   "name": "python",
   "nbconvert_exporter": "python",
   "pygments_lexer": "ipython3",
   "version": "3.8.5"
  }
 },
 "nbformat": 4,
 "nbformat_minor": 4
}
