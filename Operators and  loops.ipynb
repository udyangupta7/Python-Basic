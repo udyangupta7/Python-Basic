{
 "cells": [
  {
   "cell_type": "markdown",
   "metadata": {},
   "source": [
    "Boolean data type: True (1) or False (0)\n",
    "\n",
    "Numerals: Any number, positive or negative of unlimited length. There are three numeric types in Python: int, float & complex.\n",
    "\n",
    "Operators: Operators are used to perform operations on variables and values. There are many types as follows:\n",
    "\n",
    "Arithmetic operators\n",
    "Assignment operators\n",
    "Comparison operators\n",
    "Logical operators\n",
    "Identity operators\n",
    "Membership operators\n",
    "Bitwise operators\n",
    "\n",
    "Loop: A loop statement allows us to execute a statement or group of statements multiple times until the condition (for which the loop is being executed for) is true. We will use if-else, nested if, while and for loops in Python. "
   ]
  },
  {
   "cell_type": "markdown",
   "metadata": {},
   "source": [
    "## Looping with numbers :"
   ]
  },
  {
   "cell_type": "code",
   "execution_count": 28,
   "metadata": {},
   "outputs": [
    {
     "name": "stdout",
     "output_type": "stream",
     "text": [
      "1  2  3  4  5  6  7  8  9  10  "
     ]
    }
   ],
   "source": [
    "# Printing natural numbers:\n",
    "for i in range(1,11):\n",
    "    print(i,end=\"  \")"
   ]
  },
  {
   "cell_type": "code",
   "execution_count": 3,
   "metadata": {},
   "outputs": [
    {
     "name": "stdout",
     "output_type": "stream",
     "text": [
      "-10  -9  -8  -7  -6  -5  -4  -3  -2  -1  "
     ]
    }
   ],
   "source": [
    "# Printing negative numbers:\n",
    "for i in range(-10,0):\n",
    "    print(i,end=\"  \")"
   ]
  },
  {
   "cell_type": "code",
   "execution_count": 31,
   "metadata": {},
   "outputs": [
    {
     "name": "stdout",
     "output_type": "stream",
     "text": [
      "5  7  11  13  17  19  23  29  "
     ]
    }
   ],
   "source": [
    "# All prime numbers between a specified range\n",
    "for i in range(4,30):\n",
    "    if i>1:\n",
    "        for j in range(2,i):\n",
    "            if i%j==0:\n",
    "                break\n",
    "        else:\n",
    "            print(i,end=\"  \")"
   ]
  },
  {
   "cell_type": "code",
   "execution_count": 1,
   "metadata": {},
   "outputs": [
    {
     "name": "stdout",
     "output_type": "stream",
     "text": [
      "Enter the lower value in the range:-5\n",
      "Enter the upper value in the range:-29\n",
      "5  7  11  13  17  19  23  "
     ]
    }
   ],
   "source": [
    "# All prime numbers between a specified range entered by the user:\n",
    "a = int(input(\"Enter the lower value in the range:-\"))\n",
    "b = int(input(\"Enter the upper value in the range:-\"))\n",
    "for i in range(a,b):\n",
    "    if i>1:\n",
    "        for j in range(2,i):\n",
    "            if i%j==0:\n",
    "                break\n",
    "        else:\n",
    "            print(i,end=\"  \")"
   ]
  },
  {
   "cell_type": "code",
   "execution_count": 2,
   "metadata": {},
   "outputs": [
    {
     "name": "stdout",
     "output_type": "stream",
     "text": [
      "Enter Value 1: 1\n",
      "Enter Value 2: 2\n",
      "Are the two values same?  No\n"
     ]
    }
   ],
   "source": [
    "a = int(input(\"Enter Value 1: \"))\n",
    "b = int(input(\"Enter Value 2: \"))\n",
    "print(\"Are the two values same?\",end= \"  \" )\n",
    "if a==b:\n",
    "    print(\"Yes\")\n",
    "else:\n",
    "    print(\"No\")"
   ]
  },
  {
   "cell_type": "code",
   "execution_count": 3,
   "metadata": {},
   "outputs": [
    {
     "name": "stdout",
     "output_type": "stream",
     "text": [
      "\n",
      "Enter Value 1: 10\n",
      "Enter Value 2: 20\n",
      "\n",
      "The values entered are: 10 and 20\n",
      "\n",
      "Values Match\n",
      "\n",
      "Enter Value 1: 1\n",
      "Enter Value 2: 0\n",
      "\n",
      "The values entered are: 1 and 0\n",
      "\n",
      "Values Do Not Match\n"
     ]
    }
   ],
   "source": [
    "# Comparing two inputs and checking if they BOTH match or not.\n",
    "# Loop runs for 2 times.\n",
    "i = 0\n",
    "while i < 2:\n",
    "    a = int(input(\"\\nEnter Value 1: \"))\n",
    "    b = int(input(\"Enter Value 2: \"))\n",
    "    print(\"\\nThe values entered are: \" + str(a)+\" and \" + str(b))\n",
    "    if a == 10 and b == 20:\n",
    "        print (\"\\nValues Match\")\n",
    "    else:\n",
    "        print(\"\\nValues Do Not Match\")\n",
    "    i += 1"
   ]
  },
  {
   "cell_type": "code",
   "execution_count": 7,
   "metadata": {},
   "outputs": [
    {
     "name": "stdout",
     "output_type": "stream",
     "text": [
      "\n",
      "Enter Value 1: 10\n",
      "Enter Value 2: 20\n",
      "The values entered are: 10 and 20\n",
      "\n",
      "Atleast One Value Matches\n",
      "\n",
      "Enter Value 1: 1\n",
      "Enter Value 2: 2\n",
      "The values entered are: 1 and 2\n",
      "\n",
      " Both Values Do Not Match\n"
     ]
    }
   ],
   "source": [
    "# Comparing two inputs and checking if ATLEAST one of them matches or not.\n",
    "# Loop runs for 2 times.\n",
    "i = 0\n",
    "while i < 2:\n",
    "    a = int(input(\"\\nEnter Value 1: \"))\n",
    "    b = int(input(\"Enter Value 2: \"))\n",
    "    print(\"The values entered are:\",a, \"and\",b)\n",
    "    if a == 10 or b == 20:\n",
    "        print (\"\\nAtleast One Value Matches\")\n",
    "    else:\n",
    "        print(\"\\n Both Values Do Not Match\")\n",
    "    i += 1"
   ]
  },
  {
   "cell_type": "code",
   "execution_count": 8,
   "metadata": {},
   "outputs": [
    {
     "name": "stdout",
     "output_type": "stream",
     "text": [
      "\n",
      "Enter your salary: 1200\n",
      "The salary entered is: 1200.0$ and our recommendation is:\n",
      "\n",
      "you are eligible to buy a bike.\n",
      "You should buy a high budget bike.\n"
     ]
    }
   ],
   "source": [
    "\"\"\"\n",
    "input for salary and checking if the user is eligible to buy a vehicle as per the conditions below:\n",
    "if Salary > 1500, user can buy a car.\n",
    "    if salary > 1500 & < 3500 - user can buy a Low Budget Car\n",
    "    if salary > 3500 - user can buy a Mid Budget Car\n",
    "if Salary > 700 & < 1500, user can buy a bike.\n",
    "    if salary > 700 - user can buy a Low Budget Bike\n",
    "    if salary > 1000 & < 1499.99 - user can buy a High Budget Bike\n",
    "if Salary > 300 & < 700, user can buy a scooter.\n",
    "if Salary < 300, user should work for a while and get a raise.\n",
    "is Sal < = 0, ask user to get a job    \n",
    "\n",
    "\"\"\" \n",
    "sal = float(input(\"\\nEnter your salary: \"))\n",
    "print(\"The salary entered is: \" + str(sal) + \"$ and our recommendation is:\")\n",
    "if sal >= 1500:\n",
    "    print(\"\\nYou are eligible to buy a car.\")\n",
    "    if sal > 3500:\n",
    "        print(\"You should buy a high budget car.\")  \n",
    "    else:\n",
    "        print(\"You should buy a low budget car\")\n",
    "elif sal >= 700:\n",
    "    print(\"\\nyou are eligible to buy a bike.\")\n",
    "    if sal > 1000 and sal < 1499.99:\n",
    "        print(\"You should buy a high budget bike.\")  \n",
    "    else:\n",
    "        print(\"You should buy a low budget bike.\")\n",
    "elif sal >= 300:\n",
    "    print (\"\\nYou should buy a scooter\")\n",
    "elif sal <= 0 :\n",
    "    print(\"\\nGet a job first.\")\n",
    "else:\n",
    "    print(\"\\nWork for a while and get a raise.\")"
   ]
  },
  {
   "cell_type": "code",
   "execution_count": 9,
   "metadata": {},
   "outputs": [
    {
     "name": "stdout",
     "output_type": "stream",
     "text": [
      "Enter a whole number:2\n",
      "The number entered is: 2\n",
      "\n",
      "2 is an Even Number\n",
      "2 not divisible by 5\n"
     ]
    }
   ],
   "source": [
    "# Prog to input a number and check if it is an even or an even number and if it is dvisible by 5:\n",
    "a = int(input(\"Enter a whole number:\"))\n",
    "print(\"The number entered is: \" + str(a) + \"\\n\")\n",
    "if a % 2 == 0:\n",
    "    print(a,\"is an Even Number\")\n",
    "else:\n",
    "    print(a,\"is an Odd Number\")\n",
    "if a%5 == 0:\n",
    "    print(a,\"is divisible by 5\")\n",
    "else:\n",
    "    print(a,\"not divisible by 5\")"
   ]
  },
  {
   "cell_type": "code",
   "execution_count": 10,
   "metadata": {},
   "outputs": [
    {
     "name": "stdout",
     "output_type": "stream",
     "text": [
      "Enter a whole number: 10\n",
      "The number entered is: 10\n",
      "\n",
      "10 is divisible by only 2.\n"
     ]
    }
   ],
   "source": [
    "# Comparing two inputs and checking if the value is divisible by both 2 & 3.\n",
    "a = int(input(\"Enter a whole number: \"))\n",
    "print(\"The number entered is: \" + str(a) + \"\\n\")\n",
    "if a%2== 0 and a%3==0:\n",
    "    print(a,\"is divisible by both 2 and 3.\")\n",
    "elif  a%2== 0 and a%3!=0:\n",
    "    print(a,\"is divisible by only 2.\")\n",
    "elif  a%2!= 0 and a%3==0:\n",
    "    print(a,\"is divisible by only 3.\")\n",
    "else:\n",
    "    print(a,\"is neither divisible by 2 nor 3.\")"
   ]
  },
  {
   "cell_type": "code",
   "execution_count": 11,
   "metadata": {},
   "outputs": [
    {
     "name": "stdout",
     "output_type": "stream",
     "text": [
      "\n",
      "enter a number: 10\n",
      "\n",
      "Number is less than 20\n",
      "\n",
      "enter a number: 12\n",
      "\n",
      "Number is less than 20\n",
      "\n",
      "enter a number: 2\n",
      "\n",
      "Number is less than 20\n"
     ]
    }
   ],
   "source": [
    "# Comparing numbers & executing the loop for 3 times. \n",
    "i = 0\n",
    "while i < 3:\n",
    "    a = float(input(\"\\nenter a number: \"))\n",
    "    if a > 20:\n",
    "        print(\"\\nNumber is greater than 20\")\n",
    "    elif a == 20:\n",
    "        print(\"\\nNumber is exactly 20\")\n",
    "    else:\n",
    "         print(\"\\nNumber is less than 20\")\n",
    "    i += 1"
   ]
  },
  {
   "cell_type": "code",
   "execution_count": 13,
   "metadata": {},
   "outputs": [
    {
     "name": "stdout",
     "output_type": "stream",
     "text": [
      "Enter the last entry for the number:- 10\n",
      "1  2  3  4  5  6  7  8  9  10  \n",
      "Sum of natural numbers upto 10 terms:-  55\n"
     ]
    }
   ],
   "source": [
    "# sum for natural numbers:\n",
    "a = int(input(\"Enter the last entry for the number:- \"))\n",
    "g = 0\n",
    "for i in range(1,a+1):\n",
    "    print(i,end=\"  \")\n",
    "    g +=i\n",
    "print(\"\\nSum of natural numbers upto\",a,\"terms:- \",g)"
   ]
  },
  {
   "cell_type": "code",
   "execution_count": 15,
   "metadata": {},
   "outputs": [
    {
     "name": "stdout",
     "output_type": "stream",
     "text": [
      "0  1  1  2  3  5  8  13  21  34  "
     ]
    }
   ],
   "source": [
    "# fibonacci sequence\n",
    "a = 0\n",
    "b = 1\n",
    "x = 0\n",
    "for i in range(10):\n",
    "    print(a, end = \"  \")\n",
    "    a = a + b\n",
    "    b = x\n",
    "    x = a"
   ]
  },
  {
   "cell_type": "code",
   "execution_count": 17,
   "metadata": {},
   "outputs": [
    {
     "name": "stdout",
     "output_type": "stream",
     "text": [
      "Enter the upper range:- 9\n",
      "0 1 1 2 3 5 8 13 21 "
     ]
    }
   ],
   "source": [
    "# fibonacci sequence by an user for range:\n",
    "f = int(input(\"Enter the upper range:- \"))\n",
    "a = 0\n",
    "b = 1\n",
    "x = 0\n",
    "for i in range(f):\n",
    "    print(a,end=\" \")\n",
    "    a = a + b\n",
    "    b = x\n",
    "    x = a"
   ]
  },
  {
   "cell_type": "code",
   "execution_count": 2,
   "metadata": {},
   "outputs": [
    {
     "name": "stdout",
     "output_type": "stream",
     "text": [
      "Enter a number:- 2\n",
      "2 is not an armstrong number\n"
     ]
    }
   ],
   "source": [
    "# Armstrong number with the input by the user:\n",
    "a = int(input(\"Enter a number:- \"))\n",
    "b = a\n",
    "i = 0\n",
    "while a>0:\n",
    "    i = i+((a%10)*(a%10)*(a%10))\n",
    "    a = a//10\n",
    "if b == i:\n",
    "    print(b,\"is an armstrong number\")\n",
    "else:\n",
    "    print(b,\"is not an armstrong number\")"
   ]
  },
  {
   "cell_type": "code",
   "execution_count": 6,
   "metadata": {},
   "outputs": [
    {
     "name": "stdout",
     "output_type": "stream",
     "text": [
      "Enter lower range: 50\n",
      "Enter upper range: 600\n",
      "64\n",
      "125\n",
      "153\n",
      "216\n",
      "370\n",
      "371\n",
      "407\n"
     ]
    }
   ],
   "source": [
    "# Armstrong between a range:\n",
    "a = int(input(\"Enter lower range: \"))  \n",
    "b = int(input(\"Enter upper range: \"))  \n",
    "for i in range(a,b+1):  \n",
    "    c = 0  \n",
    "    d = i  \n",
    "    while d > 0:  \n",
    "        e = d % 10  \n",
    "        c += e ** 3  \n",
    "        d //= 10  \n",
    "        if i == c:  \n",
    "             print(i)"
   ]
  },
  {
   "cell_type": "code",
   "execution_count": 50,
   "metadata": {},
   "outputs": [
    {
     "name": "stdout",
     "output_type": "stream",
     "text": [
      "Enter a number:- 29\n",
      "29 is a prime number\n"
     ]
    }
   ],
   "source": [
    "# Prime number with the input by the user:\n",
    "a = int(input(\"Enter a number:- \"))\n",
    "if a>1:\n",
    "    for i in range(2,a):\n",
    "        if a%i == 0:\n",
    "            print(a,\"is not a prime number.\")\n",
    "            print(i,\"times\",a//i,\"is\",a)\n",
    "            print()\n",
    "            break\n",
    "    else:\n",
    "        print(a,\"is a prime number\")"
   ]
  },
  {
   "cell_type": "code",
   "execution_count": 49,
   "metadata": {},
   "outputs": [
    {
     "name": "stdout",
     "output_type": "stream",
     "text": [
      "Enter the lower range:-2\n",
      "Enter the upper range:-50\n",
      "Prime numbers between 2 and 50 are:\n",
      "2  3  5  7  11  13  17  19  23  29  31  37  41  43  47  "
     ]
    }
   ],
   "source": [
    "# Prime number with the range input by the user:\n",
    "a = int(input(\"Enter the lower range:-\"))\n",
    "b = int(input(\"Enter the upper range:-\"))\n",
    "print(\"Prime numbers between\",a, \"and\",b, \"are:\")\n",
    "for i in range(a,b+1):\n",
    "    if i > 1:\n",
    "        for y in range(2,i):\n",
    "            if i%y == 0:\n",
    "                break\n",
    "        else:\n",
    "            print(i,end = \"  \")"
   ]
  },
  {
   "cell_type": "code",
   "execution_count": 18,
   "metadata": {},
   "outputs": [
    {
     "name": "stdout",
     "output_type": "stream",
     "text": [
      "Enter a number:- 100001112\n",
      "Given Number:- 100001112\n",
      "Reversed Number:- 211100001\n"
     ]
    }
   ],
   "source": [
    "# Program to reverse a number:\n",
    "n = int(input(\"Enter a number:- \"))\n",
    "r = 0\n",
    "print(\"Given Number:-\",n)\n",
    "while n > 0:\n",
    "    rem = n % 10\n",
    "    r = (r * 10) + rem\n",
    "    n = n // 10\n",
    "print(\"Reversed Number:-\", r)"
   ]
  },
  {
   "cell_type": "markdown",
   "metadata": {},
   "source": [
    "## String operations:"
   ]
  },
  {
   "cell_type": "code",
   "execution_count": 27,
   "metadata": {},
   "outputs": [
    {
     "name": "stdout",
     "output_type": "stream",
     "text": [
      "present in the string\n"
     ]
    }
   ],
   "source": [
    "# To check if a certain word exists in a string. \n",
    "z = \"hello world. Lets code!\"\n",
    "if \"world\" in z:\n",
    "    print(\"present in the string\")\n",
    "else:\n",
    "    print(\"not present in the string\")"
   ]
  },
  {
   "cell_type": "code",
   "execution_count": 26,
   "metadata": {},
   "outputs": [
    {
     "name": "stdout",
     "output_type": "stream",
     "text": [
      "\n",
      "Enter a String without the word 'easy':\n",
      " jkhjhgfgdgh dyfjhgug yyfty\n",
      "\n",
      "You have followed the rules. kudos!\n",
      " \n"
     ]
    }
   ],
   "source": [
    "# To check if a certain word is present in a string or not.\n",
    "# We shall take the input from a user for 5 times if they cannot input without the word 'easy'.\n",
    "# Uses nested looping.\n",
    "# We exit if the desired output is achieved.\n",
    "s = 0\n",
    "while s < 5:\n",
    "    z = input(\"\\nEnter a String without the word 'easy':\\n \")\n",
    "    if \"easy\" in z:\n",
    "        s += 1\n",
    "        if s < 5:\n",
    "            print(\"\\nYou failed to follow the rules. try again!\\n \")\n",
    "        elif s == 5:\n",
    "            print(\"\\nMaximum limit reached. Please restart the program.\")\n",
    "    else:\n",
    "        print(\"\\nYou have followed the rules. kudos!\\n \")\n",
    "        break"
   ]
  },
  {
   "cell_type": "code",
   "execution_count": 28,
   "metadata": {},
   "outputs": [
    {
     "name": "stdout",
     "output_type": "stream",
     "text": [
      "Enter your first name: udyan\n",
      "Enter your second name: gupta\n",
      "\n",
      "The name is correct. :D\n"
     ]
    }
   ],
   "source": [
    "# To check if entered name is correct or not.\n",
    "a = input(\"Enter your first name: \")\n",
    "b = input(\"Enter your second name: \")\n",
    "if a.lower() == \"udyan\" and b.lower() == \"gupta\":\n",
    "        print(\"\\nThe name is correct. :D\")\n",
    "else:\n",
    "        print(\"\\nnot the right name. :( \")"
   ]
  },
  {
   "cell_type": "code",
   "execution_count": 30,
   "metadata": {},
   "outputs": [
    {
     "name": "stdout",
     "output_type": "stream",
     "text": [
      "Enter a string: this is me writing a code.\n",
      "Enter a character to be found in the string entered above:: i\n",
      "\n",
      "The string is:  this is me writing a code.\n",
      "The character to be found is:  i\n",
      "\n",
      "The character i is present at the following index(es):\n",
      "2\n",
      "5\n",
      "13\n",
      "15\n",
      "\n",
      " i is not found in  this is me writing a code.\n"
     ]
    }
   ],
   "source": [
    "# to find if a character is present in the string or not. \n",
    "s = str(input(\"Enter a string: \"))\n",
    "x = str(input(\"Enter a character to be found in the string entered above:: \"))\n",
    "print(\"\\nThe string is: \" , s)\n",
    "print(\"The character to be found is: \",x)\n",
    "print(\"\\nThe character \"+ x +\" is present at the following index(es):\")\n",
    "for i in range(len(s)):\n",
    "    if s[i] == x:\n",
    "        print(i)\n",
    "if s[i] != x:\n",
    "    print(\"\\n\",x , \"is not found in \", s)"
   ]
  },
  {
   "cell_type": "code",
   "execution_count": 77,
   "metadata": {},
   "outputs": [
    {
     "name": "stdout",
     "output_type": "stream",
     "text": [
      "character 'a' is at the following locations:- \n",
      "\n",
      "1\n",
      "26\n",
      "32\n",
      "43\n"
     ]
    }
   ],
   "source": [
    "# location of all characters 'a' in the string:\n",
    "s = \"All of this is my string and i am writing a code.\" \n",
    "print(\"character 'a' is at the following locations:- \\n\")\n",
    "for a in range(len(s)):\n",
    "    if s[a].lower() == \"a\":\n",
    "        print(a+1)"
   ]
  },
  {
   "cell_type": "code",
   "execution_count": 79,
   "metadata": {},
   "outputs": [
    {
     "name": "stdout",
     "output_type": "stream",
     "text": [
      "Enter a single word:- redfwseds\n",
      "r is not a vowel.\n",
      "e is a vovel.\n",
      "d is not a vowel.\n",
      "f is not a vowel.\n",
      "w is not a vowel.\n",
      "s is not a vowel.\n",
      "e is a vovel.\n",
      "d is not a vowel.\n",
      "s is not a vowel.\n",
      "count: 2\n"
     ]
    }
   ],
   "source": [
    "n = str(input(\"Enter a single word:- \"))\n",
    "v = \"AEIOUaeiou\"\n",
    "g = 0\n",
    "for i in n:\n",
    "    if i in v:\n",
    "        print(i,\"is a vovel.\")\n",
    "        g += 1\n",
    "    else:\n",
    "        print(i,\"is not a vowel.\")\n",
    "print(\"count:\",g)"
   ]
  },
  {
   "cell_type": "code",
   "execution_count": 87,
   "metadata": {
    "scrolled": true
   },
   "outputs": [
    {
     "name": "stdout",
     "output_type": "stream",
     "text": [
      "Enter a string: this is me writing a code/\n",
      "\n",
      "The string entered  is: this is me writing a code/ \n",
      "\n",
      "i is a vowel\n",
      "i is a vowel\n",
      "e is a vowel\n",
      "i is a vowel\n",
      "i is a vowel\n",
      "a is a vowel\n",
      "o is a vowel\n",
      "e is a vowel\n",
      "\n",
      "Total vowels in the string: 8\n"
     ]
    }
   ],
   "source": [
    "s = str(input(\"Enter a string: \"))\n",
    "b=\"AEIOUaeiou\"\n",
    "print(\"\\nThe string entered  is:\",s,\"\\n\")\n",
    "g = 0\n",
    "for i in s:\n",
    "    if i in b:\n",
    "        print(i,\"is a vowel\")\n",
    "        g+=1\n",
    "print(\"\\nTotal vowels in the string:\",g)"
   ]
  },
  {
   "cell_type": "code",
   "execution_count": 17,
   "metadata": {},
   "outputs": [
    {
     "name": "stdout",
     "output_type": "stream",
     "text": [
      "Enter a string:- DDDdd\n",
      "Enter a character for count in the string:-d\n",
      "the index(es) are:- \n",
      "\n",
      "0\n",
      "1\n",
      "2\n",
      "3\n",
      "4\n",
      "\n",
      "Total character count for d in the string is:- 5\n"
     ]
    }
   ],
   "source": [
    "s = str(input(\"Enter a string:- \"))\n",
    "d = str(input(\"Enter a character for count in the string:-\"))\n",
    "print(\"the index(es) are:- \\n\")\n",
    "g = 0\n",
    "for i in range(len(s)):\n",
    "    if s[i].lower() == d.lower():\n",
    "        g += 1\n",
    "        print(i)\n",
    "print(\"\\nTotal character count for\",d,\"in the string is:-\",g)"
   ]
  },
  {
   "cell_type": "code",
   "execution_count": 1,
   "metadata": {},
   "outputs": [
    {
     "name": "stdout",
     "output_type": "stream",
     "text": [
      "d\n",
      "l\n",
      "r\n",
      "o\n",
      "w\n",
      " \n",
      "o\n",
      "l\n",
      "l\n",
      "e\n",
      "h\n"
     ]
    }
   ],
   "source": [
    "# reverse of a string\n",
    "s= \"hello world\"\n",
    "c = len(s)-1\n",
    "\n",
    "while c >=0:\n",
    "    print(s[c])\n",
    "    c -= 1"
   ]
  },
  {
   "cell_type": "code",
   "execution_count": 4,
   "metadata": {},
   "outputs": [
    {
     "name": "stdout",
     "output_type": "stream",
     "text": [
      "Total number of words:- 20\n"
     ]
    }
   ],
   "source": [
    "s = \"Udyan Gupta, Code 1.\"\n",
    "count = 0\n",
    "for i in s:\n",
    "    count +=1\n",
    "print(\"Total number of words:-\",count)"
   ]
  }
 ],
 "metadata": {
  "kernelspec": {
   "display_name": "Python 3",
   "language": "python",
   "name": "python3"
  },
  "language_info": {
   "codemirror_mode": {
    "name": "ipython",
    "version": 3
   },
   "file_extension": ".py",
   "mimetype": "text/x-python",
   "name": "python",
   "nbconvert_exporter": "python",
   "pygments_lexer": "ipython3",
   "version": "3.8.5"
  }
 },
 "nbformat": 4,
 "nbformat_minor": 4
}
