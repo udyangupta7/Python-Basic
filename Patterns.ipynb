{
 "cells": [
  {
   "cell_type": "code",
   "execution_count": 6,
   "metadata": {},
   "outputs": [
    {
     "name": "stdout",
     "output_type": "stream",
     "text": [
      "Enter a number: 5\n",
      "\n",
      "\n",
      "+  \n",
      "+  +  \n",
      "+  +  +  \n",
      "+  +  +  +  \n",
      "+  +  +  +  +  \n"
     ]
    }
   ],
   "source": [
    "# Nested looping\n",
    "# user input for printing a pattern:\n",
    "\"\"\"\n",
    "+  \n",
    "\n",
    "+  +  \n",
    "\n",
    "+  +  + \n",
    "\"\"\"\n",
    "\n",
    "n = int(input(\"Enter a number: \"))\n",
    "print(\"\\n\")\n",
    "for i in range(0,n):\n",
    "    for j in range(0,i+1):\n",
    "        print( \"+ \", end = \" \")\n",
    "    print(\"\\r\")"
   ]
  },
  {
   "cell_type": "code",
   "execution_count": 7,
   "metadata": {},
   "outputs": [
    {
     "name": "stdout",
     "output_type": "stream",
     "text": [
      "Enter a number: 12\n",
      "\n",
      "\n",
      "+  \n",
      "\n",
      "+  +  \n",
      "\n",
      "+  +  +  \n",
      "\n",
      "+  +  +  +  \n",
      "\n",
      "+  +  +  +  +  \n",
      "\n",
      "+  +  +  +  +  +  \n",
      "\n",
      "+  +  +  +  +  +  +  \n",
      "\n",
      "+  +  +  +  +  +  +  +  \n",
      "\n",
      "+  +  +  +  +  +  +  +  +  \n",
      "\n",
      "+  +  +  +  +  +  +  +  +  +  \n",
      "\n",
      "+  +  +  +  +  +  +  +  +  +  +  \n",
      "\n",
      "+  +  +  +  +  +  +  +  +  +  +  +  \n",
      "\n"
     ]
    }
   ],
   "source": [
    "# Nested looping\n",
    "# user input for printing a pattern:\n",
    "\"\"\"\n",
    "+  \n",
    "\n",
    "+  +  \n",
    "\n",
    "+  +  + \n",
    "\"\"\"\n",
    "\n",
    "n = int(input(\"Enter a number: \"))\n",
    "print(\"\\n\")\n",
    "for i in range(0,n):\n",
    "    for j in range(0,i+1):\n",
    "        print( \"+ \", end = \" \")\n",
    "    print(\"\\n\")"
   ]
  },
  {
   "cell_type": "code",
   "execution_count": 8,
   "metadata": {},
   "outputs": [
    {
     "name": "stdout",
     "output_type": "stream",
     "text": [
      "Enter a number: 9\n",
      "\n",
      "\n",
      "*****************\n",
      " ***************\n",
      "  *************\n",
      "   ***********\n",
      "    *********\n",
      "     *******\n",
      "      *****\n",
      "       ***\n",
      "        *\n"
     ]
    }
   ],
   "source": [
    "# Nested looping\n",
    "# user input for printing a pattern:\n",
    "\"\"\"\n",
    "+  \n",
    "\n",
    "+  +  \n",
    "\n",
    "+  +  + \n",
    "\"\"\"\n",
    "\n",
    "n = int(input(\"Enter a number: \"))\n",
    "print(\"\\n\")\n",
    "for i in range(n,0,-1):\n",
    "    for j in range(n-i):\n",
    "        print( \" \", end = \"\" ) \n",
    "        \n",
    "    for j in range (2*i-1):\n",
    "        print(\"*\",end = \"\")\n",
    "    print()"
   ]
  },
  {
   "cell_type": "code",
   "execution_count": 9,
   "metadata": {},
   "outputs": [
    {
     "name": "stdout",
     "output_type": "stream",
     "text": [
      "Please enter the number of rows: 25\n",
      "\n",
      "\n",
      "                        *\n",
      "                       ***\n",
      "                      *****\n",
      "                     *******\n",
      "                    *********\n",
      "                   ***********\n",
      "                  *************\n",
      "                 ***************\n",
      "                *****************\n",
      "               *******************\n",
      "              *********************\n",
      "             ***********************\n",
      "            *************************\n",
      "           ***************************\n",
      "          *****************************\n",
      "         *******************************\n",
      "        *********************************\n",
      "       ***********************************\n",
      "      *************************************\n",
      "     ***************************************\n",
      "    *****************************************\n",
      "   *******************************************\n",
      "  *********************************************\n",
      " ***********************************************\n",
      "*************************************************\n"
     ]
    }
   ],
   "source": [
    "userInput = int(input(\"Please enter the number of rows: \"))\n",
    "print(\"\\n\")\n",
    "\n",
    "row = 0\n",
    "while(row < userInput):\n",
    "    row += 1\n",
    "    spaces = userInput - row\n",
    "\n",
    "    spaces_counter = 0\n",
    "    while(spaces_counter < spaces):\n",
    "        print(\" \", end='')\n",
    "        spaces_counter += 1\n",
    "\n",
    "    num_stars = 2*row-1\n",
    "    while(num_stars > 0):\n",
    "        print(\"*\", end='')\n",
    "        num_stars -= 1\n",
    "\n",
    "    print()\n",
    "\n",
    "\n"
   ]
  },
  {
   "cell_type": "code",
   "execution_count": 10,
   "metadata": {},
   "outputs": [
    {
     "name": "stdout",
     "output_type": "stream",
     "text": [
      "*\n",
      "***\n",
      "*****\n",
      "*******\n",
      "*********\n"
     ]
    }
   ],
   "source": [
    "i=1\n",
    "k=1 #for printing starts with the increament of 2\n",
    "\n",
    "while i<=5:\n",
    "    b=51\n",
    "    while b<=5-i:\n",
    "        print(' ',end='')\n",
    "        b=b+1\n",
    "        \n",
    "    j=1\n",
    "    while j<=k:\n",
    "        print('*', end='')\n",
    "        j=j+1\n",
    "    print()\n",
    "    \n",
    "    k=k+2\n",
    "    \n",
    "    i=i+1\n"
   ]
  },
  {
   "cell_type": "code",
   "execution_count": 15,
   "metadata": {},
   "outputs": [
    {
     "name": "stdout",
     "output_type": "stream",
     "text": [
      "1  \n",
      "2 2  \n",
      "3 3 3  \n",
      "4 4 4 4  \n",
      "5 5 5 5 5  \n"
     ]
    }
   ],
   "source": [
    "i = 1\n",
    "while i <= 5:\n",
    "    j = 1\n",
    "    while j <= i:\n",
    "        print(i,end = \" \")\n",
    "        j+=1\n",
    "    print(\" \")\n",
    "    i+=1"
   ]
  },
  {
   "cell_type": "code",
   "execution_count": 16,
   "metadata": {},
   "outputs": [
    {
     "name": "stdout",
     "output_type": "stream",
     "text": [
      "1  \n",
      "1 2  \n",
      "1 2 3  \n",
      "1 2 3 4  \n",
      "1 2 3 4 5  \n"
     ]
    }
   ],
   "source": [
    "i = 1\n",
    "while i <= 5:\n",
    "    j = 1\n",
    "    while j <= i:\n",
    "        print(j,end = \" \")\n",
    "        j+=1\n",
    "    print(\" \")\n",
    "    i+=1"
   ]
  },
  {
   "cell_type": "code",
   "execution_count": 35,
   "metadata": {},
   "outputs": [
    {
     "name": "stdout",
     "output_type": "stream",
     "text": [
      " \n",
      "0  \n",
      "0 1  \n",
      "0 1 2  \n",
      "0 1 2 3  \n",
      "0 1 2 3 4  \n"
     ]
    }
   ],
   "source": [
    "for i in range(6):\n",
    "    for y in range(i):\n",
    "        print(y,end =\" \" )\n",
    "    print(\" \")"
   ]
  },
  {
   "cell_type": "code",
   "execution_count": null,
   "metadata": {},
   "outputs": [],
   "source": []
  }
 ],
 "metadata": {
  "kernelspec": {
   "display_name": "Python 3",
   "language": "python",
   "name": "python3"
  },
  "language_info": {
   "codemirror_mode": {
    "name": "ipython",
    "version": 3
   },
   "file_extension": ".py",
   "mimetype": "text/x-python",
   "name": "python",
   "nbconvert_exporter": "python",
   "pygments_lexer": "ipython3",
   "version": "3.8.5"
  }
 },
 "nbformat": 4,
 "nbformat_minor": 4
}
