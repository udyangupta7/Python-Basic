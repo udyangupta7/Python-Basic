{
 "cells": [
  {
   "cell_type": "markdown",
   "metadata": {},
   "source": [
    "## Strings:\n",
    "\n",
    "A string in Python is a sequence of characters. It is a derived data type. Strings are immutable objects. This means that once defined, they cannot be changed. "
   ]
  },
  {
   "cell_type": "code",
   "execution_count": 1,
   "metadata": {},
   "outputs": [
    {
     "name": "stdout",
     "output_type": "stream",
     "text": [
      "python is awesome\n"
     ]
    }
   ],
   "source": [
    "# Adding two strings:\n",
    "x = \"awesome\"\n",
    "y = \"python is \" \n",
    "print( y + x)"
   ]
  },
  {
   "cell_type": "code",
   "execution_count": 1,
   "metadata": {},
   "outputs": [
    {
     "data": {
      "text/plain": [
       "'greetings from John hopkins Medical Centre'"
      ]
     },
     "execution_count": 1,
     "metadata": {},
     "output_type": "execute_result"
    }
   ],
   "source": [
    "# Replacing a character with another character:\n",
    "s = \"greetings from John Hopkins Medical Centre\"\n",
    "s.replace (\"H\", \"h\")"
   ]
  },
  {
   "cell_type": "code",
   "execution_count": 4,
   "metadata": {},
   "outputs": [
    {
     "data": {
      "text/plain": [
       "' greeeeeeeeeeeetings from John Hopkins Meeeeeedical Ceeeeeentreeeeee!'"
      ]
     },
     "execution_count": 4,
     "metadata": {},
     "output_type": "execute_result"
    }
   ],
   "source": [
    "# Replacing a character with more than one character:\n",
    "s = \" greetings from John Hopkins Medical Centre!\"\n",
    "s.replace (\"e\", \"eeeeee\")"
   ]
  },
  {
   "cell_type": "code",
   "execution_count": 5,
   "metadata": {},
   "outputs": [
    {
     "name": "stdout",
     "output_type": "stream",
     "text": [
      "510\n"
     ]
    }
   ],
   "source": [
    "# String concatination:\n",
    "x = \"10\"\n",
    "y = \"5\" \n",
    "print( y + x) # Adds two strings since x and y are two string declarations."
   ]
  },
  {
   "cell_type": "markdown",
   "metadata": {},
   "source": [
    "String slicing operations:"
   ]
  },
  {
   "cell_type": "code",
   "execution_count": 5,
   "metadata": {},
   "outputs": [
    {
     "name": "stdout",
     "output_type": "stream",
     "text": [
      "56\n",
      "This is a long string for practice written on 11/03/2021\n",
      "This is a long string for practice written on 11/03/2021\n",
      " is a long st\n",
      "1202/30/11 no nettirw ecitcarp rof gnirts gnol a si sihT\n",
      "ss nsi rrtert  //2\n",
      "\n",
      " ecitcarp rof gnirts gnol a si s\n",
      "ogsrn o rciewitno 10/\n",
      "Ti saln tigfrpatc rte n1/322\n",
      "is is a long string for practice written on 11/03/\n"
     ]
    }
   ],
   "source": [
    "a = \"This is a long string for practice written on 11/03/2021\"\n",
    "print(len(a)) # Total number of characters in a string. \n",
    "print((a)) # To print a string.\n",
    "print(a[0:]) # Same as print(a).\n",
    "print (a[4:17]) # Prints indexes between 4rth and 16th. Default step is :1 unless defined.\n",
    "print(a[::-1]) # Reversed String.\n",
    "print(a[3:55:3]) # Prints indexes between 3 and 54 skipping to the 3rd index everytime.\n",
    "print(a[34:2]) # Gives a blank because the default step is :1\n",
    "print(a[34:2:-1]) # Prints indexes. \n",
    "print(a[-45:-4:2]) # prints every 2nd index between 5th and 45th indexes FROM THE LEFT.  \n",
    "print(a[::2]) #Prints every second index for the entire array.\n",
    "print(a[2:-4]) #Prints strings between 2nd FROM THE RIGHT and 5th FROM THE LEFT."
   ]
  },
  {
   "cell_type": "markdown",
   "metadata": {},
   "source": [
    "Functions in strings:"
   ]
  },
  {
   "cell_type": "code",
   "execution_count": 6,
   "metadata": {},
   "outputs": [
    {
     "name": "stdout",
     "output_type": "stream",
     "text": [
      "0\n",
      "\n",
      " 3\n",
      "\n",
      " ['my', 'name', 'will', 'never', 'be', 'revealed', 'as', 'the', 'part', 'of', 'a', 'business', 'strategy!,', 'he', 'said']\n",
      "\n",
      " ['my name will never be revealed as the part of a business strategy!', ' he said']\n",
      "\n",
      " ['my ', 'ame will ', 'ever be revealed as the part of a busi', 'ess strategy!, he said']\n",
      "\n",
      " ['my ', 'me will never be revealed as the part of a business strategy!, he said']\n",
      "\n",
      " my name will never be revealed as the part of a business strategy!, he said\n",
      "\n",
      " MY NAME WILL NEVER BE REVEALED AS THE PART OF A BUSINESS STRATEGY!, HE SAID\n",
      "\n",
      " MY NAME WILL NEVER BE REVEALED AS THE PART OF A BUSINESS STRATEGY!, HE SAID\n",
      "\n",
      " my name will never be revealed as the part of a business strategy!, he said\n",
      "\n",
      " <reversed object at 0x0000021D64B915E0>\n",
      "\n",
      " ['d', 'i', 'a', 's', ' ', 'e', 'h', ' ', ',', '!', 'y', 'g', 'e', 't', 'a', 'r', 't', 's', ' ', 's', 's', 'e', 'n', 'i', 's', 'u', 'b', ' ', 'a', ' ', 'f', 'o', ' ', 't', 'r', 'a', 'p', ' ', 'e', 'h', 't', ' ', 's', 'a', ' ', 'd', 'e', 'l', 'a', 'e', 'v', 'e', 'r', ' ', 'e', 'b', ' ', 'r', 'e', 'v', 'e', 'n', ' ', 'l', 'l', 'i', 'w', ' ', 'e', 'm', 'a', 'n', ' ', 'y', 'm']\n",
      "\n",
      " 1\n",
      "\n",
      " m y   n a m e   w i l l   n e v e r   b e   r e v e a l e d   a s   t h e   p a r t   o f   a   b u s i n e s s   s t r a t e g y ! ,   h e   s a i d\n"
     ]
    }
   ],
   "source": [
    "s = \"my name will never be revealed as the part of a business strategy!, he said\"\n",
    "b = s.count(\"is\") #no of occurances\n",
    "a = s.count(\"i\") \n",
    "print(b)\n",
    "print(\"\\n\",a) \n",
    "c = s.split() #split into a list for each whitespace\n",
    "d = s.split(\",\") # from comma\n",
    "e = s.split(\"n\")  # from the word n\n",
    "f = s.split(\"na\") # from na\n",
    "print(\"\\n\",c)\n",
    "print(\"\\n\",d)\n",
    "print(\"\\n\",e)\n",
    "print(\"\\n\",f)\n",
    "print(\"\\n\",s.lower())\n",
    "print(\"\\n\",s.upper())\n",
    "print(\"\\n\",s.swapcase())\n",
    "print(\"\\n\", \"\".join(s))\n",
    "print(\"\\n\",reversed(s)) #output is in an object format (not understandable)\n",
    "print(\"\\n\",list(reversed(s))) #understandable format \n",
    "print(\"\\n\",s.count(\"name\")) \n",
    "print(\"\\n\", \" \".join(s)) # will insert spaces between each character"
   ]
  },
  {
   "cell_type": "markdown",
   "metadata": {},
   "source": [
    "String functions:"
   ]
  },
  {
   "cell_type": "code",
   "execution_count": 3,
   "metadata": {},
   "outputs": [
    {
     "name": "stdout",
     "output_type": "stream",
     "text": [
      "-1\n",
      "1\n"
     ]
    }
   ],
   "source": [
    "# Inbuilt functions\n",
    "# String variables\n",
    "# we can create our own functions.\n",
    "s = \"Hello World. This is my first program.\"\n",
    "print(s.find(\"hello\")) # prints the indexes and -1 when something isnt present in the string\n",
    "print(s.find(\"e\")) # Inbuilt functions"
   ]
  },
  {
   "cell_type": "markdown",
   "metadata": {},
   "source": [
    "Exercise:"
   ]
  },
  {
   "cell_type": "code",
   "execution_count": 6,
   "metadata": {},
   "outputs": [
    {
     "name": "stdout",
     "output_type": "stream",
     "text": [
      "we are all a part of one world. \n",
      "\n",
      "character 'a' found.\n",
      "character 'a' found.\n",
      "character 'a' found.\n",
      "character 'a' found.\n",
      "\n",
      "total occurances:  4 \n",
      "\n",
      "The replaced string:  We iTotalre iTotalll iTotal piTotalrt of one world.\n",
      "\n",
      " ['We', 'are', 'all', 'a', 'part', 'of', 'one', 'world.']\n",
      "\n",
      " ['W', 'e', ' ', 'a', 'r', 'e', ' ', 'a', 'l', 'l', ' ', 'a', ' ', 'p', 'a', 'r', 't', ' ', 'o', 'f', ' ', 'o', 'n', 'e', ' ', 'w', 'o', 'r', 'l', 'd', '.']\n"
     ]
    }
   ],
   "source": [
    "a =  \"We are all a part of one world.\"\n",
    "# 1: string a into lowercase:\n",
    "b = a.lower()\n",
    "print(b,\"\\n\")\n",
    "# 2: occurance of 'a' in the entire string:\n",
    "g = 0\n",
    "for i in a:\n",
    "    if i == 'a':\n",
    "        print(\"character 'a' found.\")\n",
    "        g += 1\n",
    "# 3: total occurances of 'a' in the string:\n",
    "print(\"\\ntotal occurances: \",g,\"\\n\")\n",
    "# 4: replacing all 'a' with 'iTotal':\n",
    "print(\"The replaced string: \",a.replace(\"a\",\"iTotal\"))\n",
    "#5 : string as a list:\n",
    "print(\"\\n\",a.split())\n",
    "print(\"\\n\",list(a))"
   ]
  },
  {
   "cell_type": "markdown",
   "metadata": {},
   "source": [
    "String spacing operations:"
   ]
  },
  {
   "cell_type": "code",
   "execution_count": 10,
   "metadata": {
    "scrolled": true
   },
   "outputs": [
    {
     "name": "stdout",
     "output_type": "stream",
     "text": [
      " hey. practice makes everyone better.\n",
      " HEY. PRACTICE MAKES EVERYONE BETTER.\n",
      "HeY. PraCtIce mAkEs EVerYoNE bEtTeR.\n",
      " HeY. PraCtIxe mAkEs EVerYoNE bEtTeR.\n"
     ]
    }
   ],
   "source": [
    "a = \" HeY. PraCtIce mAkEs EVerYoNE bEtTeR.\"\n",
    "print(a.lower()) #All into lowercase.\n",
    "print(a.upper()) #All into uppercase.\n",
    "print(a.strip()) #removes any white-space (space between quotes) from the string.\n",
    "print(a.replace(\"c\", \"x\"))"
   ]
  },
  {
   "cell_type": "code",
   "execution_count": 11,
   "metadata": {},
   "outputs": [
    {
     "name": "stdout",
     "output_type": "stream",
     "text": [
      "ptthon \n",
      "\n",
      "The string is: \n",
      "practicing python is fun! let's start pythoning!\n"
     ]
    }
   ],
   "source": [
    "a = \"practicing \"\n",
    "b = \"python \"\n",
    "x = b.replace('y','t') # Replacing characters in a string. \n",
    "c = \"is fun!\"\n",
    "d = \" let's start pythoning!\"\n",
    "print(x)\n",
    "print(\"\\nThe string is: \\n\"+a+b+c+d) # String concatination."
   ]
  },
  {
   "cell_type": "code",
   "execution_count": 8,
   "metadata": {},
   "outputs": [
    {
     "name": "stdout",
     "output_type": "stream",
     "text": [
      "\n",
      "Enter a name: heeh\n",
      "The string is a palindrome.\n"
     ]
    }
   ],
   "source": [
    "# To check if a string is a palindrome or not:\n",
    "s = input(\"\\nEnter a name: \")\n",
    "ss = s[::-1]\n",
    "if s==ss:\n",
    "    print(\"The string is a palindrome.\")\n",
    "else:\n",
    "    print(\"The string is not a palindrome.\")"
   ]
  },
  {
   "cell_type": "code",
   "execution_count": 14,
   "metadata": {},
   "outputs": [
    {
     "name": "stdout",
     "output_type": "stream",
     "text": [
      "The string is at the following places:- \n",
      "3\n",
      "4\n",
      "5\n",
      "6\n"
     ]
    }
   ],
   "source": [
    "# to print the indexes where the word \"name\" is present in a string or not:\n",
    "s = \"my name is udyan\"\n",
    "b = s.find(\"name\")\n",
    "print(\"The string is at the following places:- \")\n",
    "for i in range(len(\"name\")):\n",
    "    print(b+i)"
   ]
  },
  {
   "cell_type": "code",
   "execution_count": 9,
   "metadata": {},
   "outputs": [
    {
     "name": "stdout",
     "output_type": "stream",
     "text": [
      "drWolH\n",
      "\n",
      "\n",
      "H\n",
      "e\n",
      "l\n",
      "l\n",
      "o\n",
      " \n",
      "W\n",
      "o\n",
      "r\n",
      "l\n",
      "d\n"
     ]
    }
   ],
   "source": [
    "a = \"Hello World\"\n",
    "# reversing the sting 'a'\n",
    "print(a[-1::-2])\n",
    "# printing a string by calling it's indexes:\n",
    "print(\"\\n\")\n",
    "for i in a:\n",
    "    print(i)"
   ]
  },
  {
   "cell_type": "code",
   "execution_count": 16,
   "metadata": {},
   "outputs": [
    {
     "name": "stdout",
     "output_type": "stream",
     "text": [
      "h e l l o\n",
      "h e l l o \n",
      " h e l l o\n"
     ]
    }
   ],
   "source": [
    "s = \" h e l l o \" # there is space\n",
    "print(s.strip()) #last and start space\n",
    "print(s.lstrip()) #LHS Strip\n",
    "print(s.rstrip()) #RHS Strip"
   ]
  },
  {
   "cell_type": "code",
   "execution_count": 19,
   "metadata": {},
   "outputs": [
    {
     "name": "stdout",
     "output_type": "stream",
     "text": [
      "aaaaaaaaaaaaaaaaaaaagreetings from yudi!aaaaaaaaaaaaaaaaaaaa\n",
      "               greetings from yudi!               \n",
      "..........greetings from yudi!..........\n"
     ]
    }
   ],
   "source": [
    "s = \"greetings from yudi!\"\n",
    "print(s.center(60,\"a\")) #in center word a\n",
    "print(s.center(50,\" \")) #in center space\n",
    "print(s.center(40,\".\")) #in center word "
   ]
  },
  {
   "cell_type": "markdown",
   "metadata": {},
   "source": [
    "String indexing:"
   ]
  },
  {
   "cell_type": "code",
   "execution_count": 23,
   "metadata": {},
   "outputs": [
    {
     "name": "stdout",
     "output_type": "stream",
     "text": [
      "Data science is fun.\n",
      "D\n",
      "u\n",
      "ce is f\n",
      "uf si e\n",
      "dlrow olleh\n",
      "\n",
      "\n",
      "h \n",
      "\n",
      "e \n",
      "\n",
      "l \n",
      "\n",
      "l \n",
      "\n",
      "o \n",
      "\n",
      "  \n",
      "\n",
      "w \n",
      "\n",
      "o \n",
      "\n",
      "r \n",
      "\n",
      "l \n",
      "\n",
      "d \n",
      "\n"
     ]
    }
   ],
   "source": [
    "# invalid syantax \"\"\"\n",
    "# We can index c from left or right\n",
    "c = \"Data science is fun.\"\n",
    "a = \"hello world\"\n",
    "print(c)\n",
    "print(c[0])\n",
    "print(c[-3])\n",
    "len(c)\n",
    "print(c[10:-3:1])\n",
    "print(c[-3:-10:-1])\n",
    "print(a[::-1])\n",
    "print(\"\\n\")\n",
    "for i in range(len(a)):\n",
    "    print(a[i], \"\\n\")"
   ]
  },
  {
   "cell_type": "markdown",
   "metadata": {},
   "source": [
    "More functions in strings:"
   ]
  },
  {
   "cell_type": "code",
   "execution_count": 25,
   "metadata": {},
   "outputs": [
    {
     "name": "stdout",
     "output_type": "stream",
     "text": [
      "\n",
      "The string is:  Data analysis can be quite intersting when excetued right.\n",
      "\n",
      "data analysis can be quite intersting when excetued right.\n",
      "\n",
      " 5\n",
      "\n",
      "\n",
      "DiNeurontiNeuron iNeuronniNeuronlysis ciNeuronn be quite intersting when excetued right.\n",
      "\n",
      "The list:\n",
      " ['D', 'a', 't', 'a', ' ', 'a', 'n', 'a', 'l', 'y', 's', 'i', 's', ' ', 'c', 'a', 'n', ' ', 'b', 'e', ' ', 'q', 'u', 'i', 't', 'e', ' ', 'i', 'n', 't', 'e', 'r', 's', 't', 'i', 'n', 'g', ' ', 'w', 'h', 'e', 'n', ' ', 'e', 'x', 'c', 'e', 't', 'u', 'e', 'd', ' ', 'r', 'i', 'g', 'h', 't', '.']\n"
     ]
    }
   ],
   "source": [
    "s = \"Data analysis can be quite intersting when excetued right.\"\n",
    "print(\"\\nThe string is: \" , s + \"\\n\")\n",
    "print(s.lower())\n",
    "x = s.count(\"a\") \n",
    "print(\"\\n\" , x) \n",
    "print(\"\\n\")\n",
    "print(s.replace( \"a\" , \"iNeuron\") + \"\\n\")\n",
    "print(\"The list:\\n\" , list(s))"
   ]
  },
  {
   "cell_type": "markdown",
   "metadata": {},
   "source": [
    "Boolean values in a string:"
   ]
  },
  {
   "cell_type": "code",
   "execution_count": 21,
   "metadata": {},
   "outputs": [
    {
     "name": "stdout",
     "output_type": "stream",
     "text": [
      "False\n",
      "True\n",
      "True\n",
      "True\n",
      "False\n"
     ]
    }
   ],
   "source": [
    "s = \"this is a string\"\n",
    "# Boolean data returns\n",
    "print(s.isupper()) # returns true or false after it checks\n",
    "print(s.islower())\n",
    "print(s.endswith(\"g\"))\n",
    "print(s.startswith(\"t\"))\n",
    "print(s.isalnum())"
   ]
  },
  {
   "cell_type": "markdown",
   "metadata": {},
   "source": [
    "## Complex Numbers: \n",
    "\n",
    "A Complex number consists of real and imaginary component. It is represented as x+yj. Both x and y are real numbers. Y multiplied by imaginary unit forms an imaginary part of complex number.\n",
    "\n",
    "Examples: 3+2j where 3 is the real component whilst 2 is the imaginary component. "
   ]
  },
  {
   "cell_type": "code",
   "execution_count": 15,
   "metadata": {},
   "outputs": [
    {
     "name": "stdout",
     "output_type": "stream",
     "text": [
      "<class 'complex'>\n"
     ]
    }
   ],
   "source": [
    "# Type of variable 'a':\n",
    "a = 5+5j\n",
    "print(type(a))"
   ]
  },
  {
   "cell_type": "code",
   "execution_count": 17,
   "metadata": {},
   "outputs": [
    {
     "name": "stdout",
     "output_type": "stream",
     "text": [
      "The real part of complex number is :  2.0\n",
      "The imaginary part of complex number is :  6.0\n"
     ]
    }
   ],
   "source": [
    "# Printing real and imaginary components of a complex number:\n",
    "z = 2+6j\n",
    "print (\"The real part of complex number is : \",z.real)\n",
    "print (\"The imaginary part of complex number is : \",z.imag)"
   ]
  },
  {
   "cell_type": "code",
   "execution_count": 45,
   "metadata": {},
   "outputs": [
    {
     "name": "stdout",
     "output_type": "stream",
     "text": [
      "(4.5+5j) & (2+6.5j) :\n",
      " \n",
      " (6.5+11.5j)\n",
      "(2.5-1.5j)\n",
      "(-23.5+39.25j)\n",
      "(0.8972972972972975-0.41621621621621624j)\n",
      "\n",
      " (4.5+5j) & 2 :\n",
      "\n",
      "(6.5+5j)\n",
      "(2.5+5j)\n",
      "(9+10j)\n",
      "(2.25+2.5j)\n",
      "\n",
      " (4.5+5j) & 2 :\n",
      "\n",
      "(4.5+7j)\n",
      "(4.5+3j)\n",
      "(-10+9j)\n",
      "(2.5-2.25j)\n"
     ]
    }
   ],
   "source": [
    "# Arithmetic operators and complex numbers:\n",
    "a = 4.5 + 5j\n",
    "b = 2 + 6.5j\n",
    "c = 2\n",
    "d = 2j\n",
    "print(a,\"&\",b,\":\\n\",\"\\n\",a+b)\n",
    "print(a-b)\n",
    "print(a*b)\n",
    "print(a/b)\n",
    "print(\"\\n\",a,\"&\",c,\":\\n\")\n",
    "print(a+c)\n",
    "print(a-c)\n",
    "print(a*c)\n",
    "print(a/c)\n",
    "print(\"\\n\",a,\"&\",c,\":\\n\")\n",
    "print(a+d)\n",
    "print(a-d)\n",
    "print(a*d)\n",
    "print(a/d)"
   ]
  },
  {
   "cell_type": "code",
   "execution_count": 46,
   "metadata": {},
   "outputs": [
    {
     "name": "stdout",
     "output_type": "stream",
     "text": [
      "(2-3j)\n",
      "(1.5+0j)\n",
      "0j\n",
      "(5-9.2j)\n"
     ]
    }
   ],
   "source": [
    "# Some more complex functions: \n",
    "z = complex(2,-3)\n",
    "print(z)\n",
    "z = complex(1.5)\n",
    "print(z)\n",
    "z = complex()\n",
    "print(z)\n",
    "z = complex('5-9.2j')\n",
    "print(z)"
   ]
  }
 ],
 "metadata": {
  "kernelspec": {
   "display_name": "Python 3",
   "language": "python",
   "name": "python3"
  },
  "language_info": {
   "codemirror_mode": {
    "name": "ipython",
    "version": 3
   },
   "file_extension": ".py",
   "mimetype": "text/x-python",
   "name": "python",
   "nbconvert_exporter": "python",
   "pygments_lexer": "ipython3",
   "version": "3.8.5"
  }
 },
 "nbformat": 4,
 "nbformat_minor": 4
}
