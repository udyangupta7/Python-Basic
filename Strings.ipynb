{
 "cells": [
  {
   "cell_type": "code",
   "execution_count": 1,
   "metadata": {},
   "outputs": [
    {
     "name": "stdout",
     "output_type": "stream",
     "text": [
      "python is awesome\n"
     ]
    }
   ],
   "source": [
    "x = \"awesome\"\n",
    "y = \"python is \" \n",
    "print( y + x)"
   ]
  },
  {
   "cell_type": "code",
   "execution_count": 1,
   "metadata": {},
   "outputs": [
    {
     "data": {
      "text/plain": [
       "'greetings from John hopkins Medical Centre'"
      ]
     },
     "execution_count": 1,
     "metadata": {},
     "output_type": "execute_result"
    }
   ],
   "source": [
    "s = \"greetings from John Hopkins Medical Centre\"\n",
    "s.replace (\"H\", \"h\")"
   ]
  },
  {
   "cell_type": "code",
   "execution_count": 4,
   "metadata": {},
   "outputs": [
    {
     "data": {
      "text/plain": [
       "' sdweddreetinsdwedds from John Hopkins Medical Centre!'"
      ]
     },
     "execution_count": 4,
     "metadata": {},
     "output_type": "execute_result"
    }
   ],
   "source": [
    "s = \" greetings from John Hopkins Medical Centre!\"\n",
    "s.replace (\"g\", \"sdwedd\")"
   ]
  },
  {
   "cell_type": "code",
   "execution_count": 4,
   "metadata": {},
   "outputs": [
    {
     "name": "stdout",
     "output_type": "stream",
     "text": [
      "510\n"
     ]
    }
   ],
   "source": [
    "x = \"10\"\n",
    "y = \"5\" \n",
    "print( y + x) # Adds two strings since x and y are two string declarations."
   ]
  },
  {
   "cell_type": "markdown",
   "metadata": {},
   "source": [
    "String Slicing:"
   ]
  },
  {
   "cell_type": "code",
   "execution_count": 5,
   "metadata": {},
   "outputs": [
    {
     "name": "stdout",
     "output_type": "stream",
     "text": [
      "56\n",
      "This is a long string for practice written on 11/03/2021\n",
      "This is a long string for practice written on 11/03/2021\n",
      " is a long st\n",
      "1202/30/11 no nettirw ecitcarp rof gnirts gnol a si sihT\n",
      "ss nsi rrtert  //2\n",
      "\n",
      " ecitcarp rof gnirts gnol a si s\n",
      "ogsrn o rciewitno 10/\n",
      "Ti saln tigfrpatc rte n1/322\n",
      "is is a long string for practice written on 11/03/\n"
     ]
    }
   ],
   "source": [
    "a = \"This is a long string for practice written on 11/03/2021\"\n",
    "print(len(a)) # Total number of characters in a string. \n",
    "print((a)) # To print a string.\n",
    "print(a[0:]) # Same as print(a).\n",
    "print (a[4:17]) # Prints indexes between 4rth and 16th. Default step is :1 unless defined.\n",
    "print(a[::-1]) # Reversed String.\n",
    "print(a[3:55:3]) # Prints indexes between 3 and 54 skipping to the 3rd index everytime.\n",
    "print(a[34:2]) # Gives a blank because the default step is :1\n",
    "print(a[34:2:-1]) # Prints indexes. \n",
    "print(a[-45:-4:2]) # prints every 2nd index between 5th and 45th indexes FROM THE LEFT.  \n",
    "print(a[::2]) #Prints every second index for the entire array.\n",
    "print(a[2:-4]) #Prints strings between 2nd FROM THE RIGHT and 5th FROM THE LEFT."
   ]
  },
  {
   "cell_type": "markdown",
   "metadata": {},
   "source": [
    "Functions in strings:"
   ]
  },
  {
   "cell_type": "code",
   "execution_count": 6,
   "metadata": {},
   "outputs": [
    {
     "name": "stdout",
     "output_type": "stream",
     "text": [
      "0\n",
      "\n",
      " 3\n",
      "\n",
      " ['my', 'name', 'will', 'never', 'be', 'revealed', 'as', 'the', 'part', 'of', 'a', 'business', 'strategy!,', 'he', 'said']\n",
      "\n",
      " ['my name will never be revealed as the part of a business strategy!', ' he said']\n",
      "\n",
      " ['my ', 'ame will ', 'ever be revealed as the part of a busi', 'ess strategy!, he said']\n",
      "\n",
      " ['my ', 'me will never be revealed as the part of a business strategy!, he said']\n",
      "\n",
      " my name will never be revealed as the part of a business strategy!, he said\n",
      "\n",
      " MY NAME WILL NEVER BE REVEALED AS THE PART OF A BUSINESS STRATEGY!, HE SAID\n",
      "\n",
      " MY NAME WILL NEVER BE REVEALED AS THE PART OF A BUSINESS STRATEGY!, HE SAID\n",
      "\n",
      " my name will never be revealed as the part of a business strategy!, he said\n",
      "\n",
      " <reversed object at 0x0000021D64B915E0>\n",
      "\n",
      " ['d', 'i', 'a', 's', ' ', 'e', 'h', ' ', ',', '!', 'y', 'g', 'e', 't', 'a', 'r', 't', 's', ' ', 's', 's', 'e', 'n', 'i', 's', 'u', 'b', ' ', 'a', ' ', 'f', 'o', ' ', 't', 'r', 'a', 'p', ' ', 'e', 'h', 't', ' ', 's', 'a', ' ', 'd', 'e', 'l', 'a', 'e', 'v', 'e', 'r', ' ', 'e', 'b', ' ', 'r', 'e', 'v', 'e', 'n', ' ', 'l', 'l', 'i', 'w', ' ', 'e', 'm', 'a', 'n', ' ', 'y', 'm']\n",
      "\n",
      " 1\n",
      "\n",
      " m y   n a m e   w i l l   n e v e r   b e   r e v e a l e d   a s   t h e   p a r t   o f   a   b u s i n e s s   s t r a t e g y ! ,   h e   s a i d\n"
     ]
    }
   ],
   "source": [
    "s = \"my name will never be revealed as the part of a business strategy!, he said\"\n",
    "b = s.count(\"is\") #no of occurances\n",
    "a = s.count(\"i\") \n",
    "print(b)\n",
    "print(\"\\n\",a) \n",
    "c = s.split() #split into a list for each whitespace\n",
    "d = s.split(\",\") # from comma\n",
    "e = s.split(\"n\")  # from the word n\n",
    "f = s.split(\"na\") # from na\n",
    "print(\"\\n\",c)\n",
    "print(\"\\n\",d)\n",
    "print(\"\\n\",e)\n",
    "print(\"\\n\",f)\n",
    "print(\"\\n\",s.lower())\n",
    "print(\"\\n\",s.upper())\n",
    "print(\"\\n\",s.swapcase())\n",
    "print(\"\\n\", \"\".join(s))\n",
    "print(\"\\n\",reversed(s)) #output is in an object format (not understandable)\n",
    "print(\"\\n\",list(reversed(s))) #understandable format \n",
    "print(\"\\n\",s.count(\"name\")) \n",
    "print(\"\\n\", \" \".join(s)) # will insert spaces between each character"
   ]
  },
  {
   "cell_type": "markdown",
   "metadata": {},
   "source": [
    "String Modification:"
   ]
  },
  {
   "cell_type": "code",
   "execution_count": 9,
   "metadata": {},
   "outputs": [
    {
     "data": {
      "text/plain": [
       "2"
      ]
     },
     "execution_count": 9,
     "metadata": {},
     "output_type": "execute_result"
    }
   ],
   "source": [
    "# Inbuilt functions\n",
    "# syntax: string_variable\n",
    "# we can create our own functions. should save them in githhub or so.\n",
    "s = \"Hello World. This is my first program.\"\n",
    "s.find(\"hello\") # prints the indexes and -1 when something isnt present in the string\n",
    "s.find(\"e\")# Inbuilt functions\n",
    "# syntax: string_variable\n",
    "# we can create our own functions. should save them in githhub or so.\n",
    "s = \"Hello World\"\n",
    "s.find(\"hello\") # prints the indexes and -1 when something isnt present in the string\n",
    "s.find(\"l\")"
   ]
  },
  {
   "cell_type": "code",
   "execution_count": 25,
   "metadata": {},
   "outputs": [
    {
     "name": "stdout",
     "output_type": "stream",
     "text": [
      "we are all a part of full stack. \n",
      "\n",
      "character 'a' found.\n",
      "character 'a' found.\n",
      "character 'a' found.\n",
      "character 'a' found.\n",
      "character 'a' found.\n",
      "\n",
      "total occurances:  5\n",
      "The replaced string:  We iNeuronre iNeuronll iNeuron piNeuronrt of full stiNeuronck.\n",
      "\n",
      " ['We', 'are', 'all', 'a', 'part', 'of', 'full', 'stack.']\n",
      "\n",
      " ['W', 'e', ' ', 'a', 'r', 'e', ' ', 'a', 'l', 'l', ' ', 'a', ' ', 'p', 'a', 'r', 't', ' ', 'o', 'f', ' ', 'f', 'u', 'l', 'l', ' ', 's', 't', 'a', 'c', 'k', '.']\n"
     ]
    }
   ],
   "source": [
    "# Exercise:\n",
    "a =  \"We are all a part of full stack.\"\n",
    "\n",
    "# 1: lowercase:\n",
    "\n",
    "b = a.lower()\n",
    "print(b,\"\\n\")\n",
    "\n",
    "# 2: occurance of 'a' in the entire string:\n",
    "\n",
    "g = 0\n",
    "for i in a:\n",
    "    if i == 'a':\n",
    "        print(\"character 'a' found.\")\n",
    "        g += 1\n",
    "\n",
    "# 3: occurances of 'a' in the string:\n",
    "\n",
    "print(\"\\ntotal occurances: \",g)\n",
    "\n",
    "# 4: replacing all 'a' with 'iNeuron':\n",
    "\n",
    "print(\"The replaced string: \",a.replace(\"a\",\"iNeuron\"))\n",
    "\n",
    "#5 : string as a list:\n",
    "\n",
    "print(\"\\n\",a.split())\n",
    "print(\"\\n\",list(a))"
   ]
  },
  {
   "cell_type": "code",
   "execution_count": 7,
   "metadata": {
    "scrolled": true
   },
   "outputs": [
    {
     "name": "stdout",
     "output_type": "stream",
     "text": [
      " heylouu. practice makes perfect!!! \n",
      " HEYLOUU. PRACTICE MAKES PERFECT!!! \n",
      "HeyLouu. PraCtIce mAkEs peRfEcT!!!\n",
      " HeyLouu. PraCtIxe mAkEs peRfExT!!! \n"
     ]
    }
   ],
   "source": [
    "a = \" HeyLouu. PraCtIce mAkEs peRfEcT!!! \"\n",
    "print(a.lower()) #All into lowercase.\n",
    "print(a.upper()) #All into uppercase.\n",
    "print(a.strip()) #removes any white-space (space between quotes) from the string.\n",
    "print(a.replace(\"c\", \"x\"))"
   ]
  },
  {
   "cell_type": "code",
   "execution_count": 8,
   "metadata": {},
   "outputs": [
    {
     "name": "stdout",
     "output_type": "stream",
     "text": [
      "ptthon \n",
      "\n",
      "The string is: \n",
      "practicing python is fun! let's start pythoning!\n"
     ]
    }
   ],
   "source": [
    "a = \"practicing \"\n",
    "b = \"python \"\n",
    "x = b.replace('y','t') # Replacing characters in a string. \n",
    "c = \"is fun!\"\n",
    "d = \" let's start pythoning!\"\n",
    "print(x)\n",
    "print(\"\\nThe string is: \\n\"+a+b+c+d) # String concatination."
   ]
  },
  {
   "cell_type": "code",
   "execution_count": 5,
   "metadata": {},
   "outputs": [
    {
     "name": "stdout",
     "output_type": "stream",
     "text": [
      "\n",
      "Enter a name: hrrh\n",
      "Palindrome\n"
     ]
    }
   ],
   "source": [
    "s = input(\"\\nEnter a name: \")\n",
    "ss = s[::-1]\n",
    "if s==ss:\n",
    "    print(\"Palindrome\")\n",
    "else:\n",
    "    print(\"Not Pal\")"
   ]
  },
  {
   "cell_type": "code",
   "execution_count": 12,
   "metadata": {},
   "outputs": [
    {
     "name": "stdout",
     "output_type": "stream",
     "text": [
      "3\n",
      "4\n",
      "5\n",
      "6\n"
     ]
    }
   ],
   "source": [
    "# to print the indexes where the string \"name\" is present:\n",
    "s = \"my name is udyan\"\n",
    "b = s.find(\"name\")\n",
    "for i in range(len(\"name\")):\n",
    "    print(b+i)"
   ]
  },
  {
   "cell_type": "code",
   "execution_count": 10,
   "metadata": {},
   "outputs": [
    {
     "name": "stdout",
     "output_type": "stream",
     "text": [
      "drWolH\n",
      "\n",
      "\n",
      "H\n",
      "e\n",
      "l\n",
      "l\n",
      "o\n",
      " \n",
      "W\n",
      "o\n",
      "r\n",
      "l\n",
      "d\n"
     ]
    }
   ],
   "source": [
    "a = \"Hello World\"\n",
    "print(a[-1::-2])\n",
    "# printing a string by calling it's indexes:\n",
    "print(\"\\n\")\n",
    "for i in a:\n",
    "    print(i)"
   ]
  },
  {
   "cell_type": "code",
   "execution_count": 11,
   "metadata": {},
   "outputs": [
    {
     "name": "stdout",
     "output_type": "stream",
     "text": [
      "y u d i\n",
      "y u d i \n",
      " y u d i\n"
     ]
    }
   ],
   "source": [
    "s = \" y u d i \" # there is space\n",
    "print(s.strip()) #last and start space\n",
    "print(s.lstrip()) #LHS Strip\n",
    "print(s.rstrip()) #RHS Strip"
   ]
  },
  {
   "cell_type": "code",
   "execution_count": 20,
   "metadata": {},
   "outputs": [
    {
     "name": "stdout",
     "output_type": "stream",
     "text": [
      "bbbbbbbbbbbbbbbbbbbbgreetings from yudi!bbbbbbbbbbbbbbbbbbbb\n",
      "               greetings from yudi!               \n",
      "..........greetings from yudi!..........\n"
     ]
    }
   ],
   "source": [
    "s = \"greetings from yudi!\"\n",
    "print(s.center(60,\"b\")) #in center word b\n",
    "print(s.center(50,\" \")) #in center space\n",
    "print(s.center(40,\".\")) #in center word "
   ]
  },
  {
   "cell_type": "code",
   "execution_count": 16,
   "metadata": {},
   "outputs": [
    {
     "data": {
      "text/plain": [
       "'greetings from yudi!'"
      ]
     },
     "execution_count": 16,
     "metadata": {},
     "output_type": "execute_result"
    }
   ],
   "source": [
    "s = \"greetings from yudi!\"\n",
    "s.expandtabs()"
   ]
  },
  {
   "cell_type": "code",
   "execution_count": 22,
   "metadata": {},
   "outputs": [
    {
     "name": "stdout",
     "output_type": "stream",
     "text": [
      "False\n",
      "True\n",
      "True\n",
      "True\n",
      "False\n"
     ]
    }
   ],
   "source": [
    "s = \"this is a string\"\n",
    "print(s.isupper()) #returns t or f cuz it checks\n",
    "print(s.islower())\n",
    "print(s.endswith(\"g\"))\n",
    "print(s.startswith(\"t\"))\n",
    "print(s.isalnum()) #F"
   ]
  },
  {
   "cell_type": "code",
   "execution_count": 23,
   "metadata": {},
   "outputs": [
    {
     "name": "stdout",
     "output_type": "stream",
     "text": [
      "d\n",
      "l\n",
      "r\n",
      "o\n",
      "w\n",
      " \n",
      "o\n",
      "l\n",
      "l\n",
      "e\n",
      "h\n"
     ]
    }
   ],
   "source": [
    "# reverse of a string\n",
    "s= \"hello world\"\n",
    "c = len(s)-1\n",
    "while c >=0:\n",
    "    print(s[c])\n",
    "    c -= 1"
   ]
  },
  {
   "cell_type": "code",
   "execution_count": 24,
   "metadata": {},
   "outputs": [],
   "source": [
    "s = \"this is a string within a string full of string.\""
   ]
  },
  {
   "cell_type": "code",
   "execution_count": 34,
   "metadata": {},
   "outputs": [
    {
     "name": "stdout",
     "output_type": "stream",
     "text": [
      "Data science is fun.\n",
      "D\n",
      "u\n",
      "ce is f\n",
      "uf si e\n",
      "dlrow olleh\n",
      "\n",
      "\n",
      "h \n",
      "\n",
      "e \n",
      "\n",
      "l \n",
      "\n",
      "l \n",
      "\n",
      "o \n",
      "\n",
      "  \n",
      "\n",
      "w \n",
      "\n",
      "o \n",
      "\n",
      "r \n",
      "\n",
      "l \n",
      "\n",
      "d \n",
      "\n"
     ]
    }
   ],
   "source": [
    "# invalid syantax \"\"\"\n",
    "# We can index c from left or right\n",
    "c = \"Data science is fun.\"\n",
    "a = \"hello world\"\n",
    "print(c)\n",
    "print(c[0])\n",
    "print(c[-3])\n",
    "len(c)\n",
    "print(c[10:-3:1])\n",
    "print(c[-3:-10:-1])\n",
    "print(a[::-1])\n",
    "print(\"\\n\")\n",
    "for i in range(len(a)):\n",
    "    print(a[i], \"\\n\")"
   ]
  },
  {
   "cell_type": "code",
   "execution_count": 35,
   "metadata": {},
   "outputs": [
    {
     "name": "stdout",
     "output_type": "stream",
     "text": [
      "\n",
      "The string is:  Data analysis can be quite intersting when excetued right.\n",
      "\n",
      "data analysis can be quite intersting when excetued right.\n",
      "\n",
      " 5\n",
      "\n",
      "\n",
      "DiNeurontiNeuron iNeuronniNeuronlysis ciNeuronn be quite intersting when excetued right.\n",
      "\n",
      "The list:\n",
      " ['D', 'a', 't', 'a', ' ', 'a', 'n', 'a', 'l', 'y', 's', 'i', 's', ' ', 'c', 'a', 'n', ' ', 'b', 'e', ' ', 'q', 'u', 'i', 't', 'e', ' ', 'i', 'n', 't', 'e', 'r', 's', 't', 'i', 'n', 'g', ' ', 'w', 'h', 'e', 'n', ' ', 'e', 'x', 'c', 'e', 't', 'u', 'e', 'd', ' ', 'r', 'i', 'g', 'h', 't', '.']\n"
     ]
    }
   ],
   "source": [
    "s = \"Data analysis can be quite intersting when excetued right.\"\n",
    "print(\"\\nThe string is: \" , s + \"\\n\")\n",
    "print(s.lower())\n",
    "x = s.count(\"a\") \n",
    "print(\"\\n\" , x) \n",
    "print(\"\\n\")\n",
    "print(s.replace( \"a\" , \"iNeuron\") + \"\\n\")\n",
    "print(\"The list:\\n\" , list(s))"
   ]
  },
  {
   "cell_type": "code",
   "execution_count": 36,
   "metadata": {},
   "outputs": [
    {
     "name": "stdout",
     "output_type": "stream",
     "text": [
      "Total number of words:- 20\n"
     ]
    }
   ],
   "source": [
    "s = \"Udyan Gupta, Code 1.\"\n",
    "count = 0\n",
    "for i in s:\n",
    "    count +=1\n",
    "print(\"Total number of words:-\",count)"
   ]
  },
  {
   "cell_type": "code",
   "execution_count": 30,
   "metadata": {},
   "outputs": [
    {
     "name": "stdout",
     "output_type": "stream",
     "text": [
      "U\n",
      ".\n",
      "1\n",
      " \n",
      "e\n",
      "d\n",
      "o\n",
      "C\n",
      " \n",
      ",\n",
      "a\n",
      "t\n",
      "p\n",
      "u\n",
      "G\n",
      " \n",
      "n\n",
      "a\n",
      "y\n",
      "d\n"
     ]
    }
   ],
   "source": [
    "for i in range(0, len(s)):\n",
    "    print(s[-i])"
   ]
  }
 ],
 "metadata": {
  "kernelspec": {
   "display_name": "Python 3",
   "language": "python",
   "name": "python3"
  },
  "language_info": {
   "codemirror_mode": {
    "name": "ipython",
    "version": 3
   },
   "file_extension": ".py",
   "mimetype": "text/x-python",
   "name": "python",
   "nbconvert_exporter": "python",
   "pygments_lexer": "ipython3",
   "version": "3.8.5"
  }
 },
 "nbformat": 4,
 "nbformat_minor": 4
}
