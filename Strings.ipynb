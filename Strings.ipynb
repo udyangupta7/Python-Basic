{
 "cells": [
  {
   "cell_type": "code",
   "execution_count": 1,
   "metadata": {},
   "outputs": [
    {
     "name": "stdout",
     "output_type": "stream",
     "text": [
      "python is awesome\n"
     ]
    }
   ],
   "source": [
    "x = \"awesome\"\n",
    "y = \"python is \" \n",
    "print( y + x)"
   ]
  },
  {
   "cell_type": "code",
   "execution_count": 16,
   "metadata": {},
   "outputs": [
    {
     "data": {
      "text/plain": [
       "' ereetines from yudi!'"
      ]
     },
     "execution_count": 16,
     "metadata": {},
     "output_type": "execute_result"
    }
   ],
   "source": [
    "s = \" greetings from yudi!\"\n",
    "s.replace (\"g\", \"e\")"
   ]
  },
  {
   "cell_type": "code",
   "execution_count": 17,
   "metadata": {},
   "outputs": [
    {
     "data": {
      "text/plain": [
       "' sdweddreetinsdwedds from yudi!'"
      ]
     },
     "execution_count": 17,
     "metadata": {},
     "output_type": "execute_result"
    }
   ],
   "source": [
    "s = \" greetings from yudi!\"\n",
    "s.replace (\"g\", \"sdwedd\")"
   ]
  },
  {
   "cell_type": "code",
   "execution_count": 2,
   "metadata": {},
   "outputs": [
    {
     "name": "stdout",
     "output_type": "stream",
     "text": [
      "510\n"
     ]
    }
   ],
   "source": [
    "x = \"10\"\n",
    "y = \"5\" \n",
    "print( y + x) # Adds two strings since x and y are two string declarations."
   ]
  },
  {
   "cell_type": "code",
   "execution_count": 3,
   "metadata": {},
   "outputs": [
    {
     "name": "stdout",
     "output_type": "stream",
     "text": [
      "present in string\n"
     ]
    }
   ],
   "source": [
    "# To check if a certain word exists in a string. \n",
    "\n",
    "z = \"hello world. Lets code!\"\n",
    "if \"world\" in z:\n",
    "    print(\"present in string\")\n",
    "else:\n",
    "    print(\"not present in string\")"
   ]
  },
  {
   "cell_type": "code",
   "execution_count": 31,
   "metadata": {},
   "outputs": [
    {
     "name": "stdout",
     "output_type": "stream",
     "text": [
      "56\n",
      "This is a long string for practice written on 11/03/2021\n",
      "This is a long string for practice written on 11/03/2021\n",
      " is a long st\n",
      "1202/30/11 no nettirw ecitcarp rof gnirts gnol a si sihT\n",
      "ss nsi rrtert  //2\n",
      "\n",
      " ecitcarp rof gnirts gnol a si s\n",
      "ogsrn o rciewitno 10/\n",
      "Ti saln tigfrpatc rte n1/322\n",
      "is is a long string for practice written on 11/03/\n"
     ]
    }
   ],
   "source": [
    "# String Slicing:\n",
    "a = \"This is a long string for practice written on 11/03/2021\"\n",
    "print(len(a)) # Total number of characters in a string. \n",
    "print((a)) # To print a string.\n",
    "print(a[0:]) # Same as print(a).\n",
    "print (a[4:17]) # Prints indexes between 4rth and 16th. Default step is :1 unless defined.\n",
    "print(a[::-1]) # Reversed String.\n",
    "print(a[3:55:3]) # Prints indexes between 3 and 54 skipping to the 3rd index everytime.\n",
    "print(a[34:2]) # Gives a blank because the default step is :1\n",
    "print(a[34:2:-1]) # Prints indexes. \n",
    "print(a[-45:-4:2]) # prints every 2nd index between 5th and 45th indexes FROM THE LEFT.  \n",
    "print(a[::2]) #Prints every second index for the entire array.\n",
    "print(a[2:-4]) #Prints strings between 2nd FROM THE RIGHT and 5th FROM THE LEFT."
   ]
  },
  {
   "cell_type": "code",
   "execution_count": 30,
   "metadata": {},
   "outputs": [
    {
     "name": "stdout",
     "output_type": "stream",
     "text": [
      "0\n",
      "\n",
      " 3\n",
      "\n",
      " ['my', 'name', 'will', 'never', 'be', 'revealed', 'as', 'the', 'part', 'of', 'a', 'business', 'strategy!,', 'he', 'said']\n",
      "\n",
      " ['my name will never be revealed as the part of a business strategy!', ' he said']\n",
      "\n",
      " ['my ', 'ame will ', 'ever be revealed as the part of a busi', 'ess strategy!, he said']\n",
      "\n",
      " ['my ', 'me will never be revealed as the part of a business strategy!, he said']\n",
      "\n",
      " my name will never be revealed as the part of a business strategy!, he said\n",
      "\n",
      " MY NAME WILL NEVER BE REVEALED AS THE PART OF A BUSINESS STRATEGY!, HE SAID\n",
      "\n",
      " MY NAME WILL NEVER BE REVEALED AS THE PART OF A BUSINESS STRATEGY!, HE SAID\n",
      "\n",
      " my name will never be revealed as the part of a business strategy!, he said\n",
      "\n",
      " <reversed object at 0x000001AD2C354790>\n",
      "\n",
      " ['d', 'i', 'a', 's', ' ', 'e', 'h', ' ', ',', '!', 'y', 'g', 'e', 't', 'a', 'r', 't', 's', ' ', 's', 's', 'e', 'n', 'i', 's', 'u', 'b', ' ', 'a', ' ', 'f', 'o', ' ', 't', 'r', 'a', 'p', ' ', 'e', 'h', 't', ' ', 's', 'a', ' ', 'd', 'e', 'l', 'a', 'e', 'v', 'e', 'r', ' ', 'e', 'b', ' ', 'r', 'e', 'v', 'e', 'n', ' ', 'l', 'l', 'i', 'w', ' ', 'e', 'm', 'a', 'n', ' ', 'y', 'm']\n",
      "\n",
      " 1\n",
      "\n",
      " m y   n a m e   w i l l   n e v e r   b e   r e v e a l e d   a s   t h e   p a r t   o f   a   b u s i n e s s   s t r a t e g y ! ,   h e   s a i d\n"
     ]
    }
   ],
   "source": [
    "# Various functions in stings:\n",
    "s = \"my name will never be revealed as the part of a business strategy!, he said\"\n",
    "b = s.count(\"is\") #no of occurances\n",
    "a = s.count(\"i\") \n",
    "print(b)\n",
    "print(\"\\n\",a) \n",
    "c = s.split() #split into a list for each whitespace\n",
    "d = s.split(\",\") # from comma\n",
    "e = s.split(\"n\")  # from the word n\n",
    "f = s.split(\"na\") # from na\n",
    "print(\"\\n\",c)\n",
    "print(\"\\n\",d)\n",
    "print(\"\\n\",e)\n",
    "print(\"\\n\",f)\n",
    "print(\"\\n\",s.lower())\n",
    "print(\"\\n\",s.upper())\n",
    "print(\"\\n\",s.swapcase())\n",
    "print(\"\\n\", \"\".join(s))\n",
    "print(\"\\n\",reversed(s)) #output is in an object format (not understandable)\n",
    "print(\"\\n\",list(reversed(s))) #understandable format \n",
    "print(\"\\n\",s.count(\"name\")) \n",
    "print(\"\\n\", \" \".join(s)) # will insert spaces between each character"
   ]
  },
  {
   "cell_type": "code",
   "execution_count": 1,
   "metadata": {
    "scrolled": false
   },
   "outputs": [
    {
     "name": "stdout",
     "output_type": "stream",
     "text": [
      "\n",
      "Enter a String without the word 'easy':\n",
      " ewjf easy irtmf\n",
      "\n",
      "You failed to follow the rules. try again!\n",
      " \n",
      "\n",
      "Enter a String without the word 'easy':\n",
      " xdfg rtd h\n",
      "\n",
      "You have followed the rules. kudos!\n",
      " \n"
     ]
    }
   ],
   "source": [
    "# To check if a certain string is present in a string or not.\n",
    "# We shall take the input from a user for 5 times if they cannot input without the word 'easy'.\n",
    "# Uses nested looping.\n",
    "# We exit if the desired output is achieved.\n",
    "\n",
    "s = 0\n",
    "while s < 5:\n",
    "    z = input(\"\\nEnter a String without the word 'easy':\\n \")\n",
    "    if \"easy\" in z:\n",
    "        s += 1\n",
    "        if s < 5:\n",
    "            print(\"\\nYou failed to follow the rules. try again!\\n \")\n",
    "        elif s == 5:\n",
    "            print(\"\\nMaximum limit reached. Please restart the program.\")\n",
    "    else:\n",
    "        print(\"\\nYou have followed the rules. kudos!\\n \")\n",
    "        break"
   ]
  },
  {
   "cell_type": "code",
   "execution_count": 3,
   "metadata": {
    "scrolled": true
   },
   "outputs": [
    {
     "name": "stdout",
     "output_type": "stream",
     "text": [
      " heylouu. practice makes perfect!!! \n",
      " HEYLOUU. PRACTICE MAKES PERFECT!!! \n",
      "HeyLouu. PraCtIce mAkEs peRfEcT!!!\n",
      " HeyLouu. PraCtIxe mAkEs peRfExT!!! \n"
     ]
    }
   ],
   "source": [
    "# String Modification\n",
    "a = \" HeyLouu. PraCtIce mAkEs peRfEcT!!! \"\n",
    "print(a.lower()) #All into lowercase.\n",
    "print(a.upper()) #All into uppercase.\n",
    "print(a.strip()) #removes any white-space (space between quotes) from the string.\n",
    "print(a.replace(\"c\", \"x\"))"
   ]
  },
  {
   "cell_type": "code",
   "execution_count": 4,
   "metadata": {},
   "outputs": [
    {
     "name": "stdout",
     "output_type": "stream",
     "text": [
      "ptthon \n",
      "\n",
      "The string is: \n",
      "practicing python is fun! let's start pythoning!\n"
     ]
    }
   ],
   "source": [
    "a = \"practicing \"\n",
    "b = \"python \"\n",
    "x = b.replace('y','t') # Replacing characters in a string. \n",
    "c = \"is fun!\"\n",
    "d = \" let's start pythoning!\"\n",
    "print(x)\n",
    "print(\"\\nThe string is: \\n\"+a+b+c+d) # String concatination."
   ]
  },
  {
   "cell_type": "code",
   "execution_count": 5,
   "metadata": {},
   "outputs": [
    {
     "name": "stdout",
     "output_type": "stream",
     "text": [
      "['yudi', 'shusbh', 'hello']\n",
      "hello\n",
      "e\n"
     ]
    }
   ],
   "source": [
    "a = [\"yudi\",\"shusbh\",\"hello\"] # Declaring an array.\n",
    "print(a)\n",
    "z=a[2] # Printing the 2nd index. \n",
    "print(z)\n",
    "d = z[1] # Printing value at index 1 inside the second index of array 'a'. \n",
    "print(d)"
   ]
  },
  {
   "cell_type": "code",
   "execution_count": 8,
   "metadata": {},
   "outputs": [
    {
     "name": "stdout",
     "output_type": "stream",
     "text": [
      "Enter your first name: udyan\n",
      "Enter your second name: gupta\n",
      "\n",
      "The name is correct. :D\n"
     ]
    }
   ],
   "source": [
    "# To check if entered name is correct or not.\n",
    "\n",
    "a = input(\"Enter your first name: \")\n",
    "b = input(\"Enter your second name: \")\n",
    "if a.lower() == \"udyan\" and b.lower() == \"gupta\":\n",
    "        print(\"\\nThe name is correct. :D\")\n",
    "else:\n",
    "        print(\"\\nnot the right name. :( \")"
   ]
  },
  {
   "cell_type": "code",
   "execution_count": 10,
   "metadata": {},
   "outputs": [
    {
     "name": "stdout",
     "output_type": "stream",
     "text": [
      "\n",
      "Enter a name: sf\n",
      "Not Pal\n"
     ]
    }
   ],
   "source": [
    "s = input(\"\\nEnter a name: \")\n",
    "ss = s[::-1]\n",
    "if s==ss:\n",
    "    print(\"Palindrome\")\n",
    "else:\n",
    "    print(\"Not Pal\")"
   ]
  },
  {
   "cell_type": "code",
   "execution_count": 16,
   "metadata": {},
   "outputs": [
    {
     "name": "stdout",
     "output_type": "stream",
     "text": [
      "Enter a string: werret\n",
      "Enter a character to be found in the string entered above:: n\n",
      "\n",
      "The string is:  werret\n",
      "The character to be found is:  n\n",
      "\n",
      "The character n is present at the following index(es):\n",
      "\n",
      " n is not found in  werret\n"
     ]
    }
   ],
   "source": [
    "# to find if a character is present in the string or not. \n",
    "s = str(input(\"Enter a string: \"))\n",
    "x = str(input(\"Enter a character to be found in the string entered above:: \"))\n",
    "print(\"\\nThe string is: \" , s)\n",
    "print(\"The character to be found is: \",x)\n",
    "print(\"\\nThe character \"+ x +\" is present at the following index(es):\")\n",
    "for i in range(len(s)):\n",
    "    if s[i] == x:\n",
    "        print(i)\n",
    "if s[i] != x:\n",
    "    print(\"\\n\",x , \"is not found in \", s)"
   ]
  },
  {
   "cell_type": "code",
   "execution_count": 18,
   "metadata": {},
   "outputs": [
    {
     "data": {
      "text/plain": [
       "2"
      ]
     },
     "execution_count": 18,
     "metadata": {},
     "output_type": "execute_result"
    }
   ],
   "source": [
    "# Inbuilt functions\n",
    "# syntax: string_variable\n",
    "# we can create our own functions. should save them in githhub or so.\n",
    "s = \"hello world\"\n",
    "s.find(\"hello\") # prints the indexes and -1 when something isnt present in the string\n",
    "s.find(\"e\")# Inbuilt functions\n",
    "# syntax: string_variable\n",
    "# we can create our own functions. should save them in githhub or so.\n",
    "s = \"hello world\"\n",
    "s.find(\"hello\") # prints the indexes and -1 when something isnt present in the string\n",
    "s.find(\"l\")"
   ]
  },
  {
   "cell_type": "code",
   "execution_count": 3,
   "metadata": {},
   "outputs": [
    {
     "name": "stdout",
     "output_type": "stream",
     "text": [
      "3\n",
      "4\n",
      "5\n",
      "6\n"
     ]
    }
   ],
   "source": [
    "# to print the indexes where the string \"name\" is present:\n",
    "s = \"my name is udyan\"\n",
    "b = s.find(\"name\")\n",
    "for i in range(len(\"name\")):\n",
    "    print(b+i)"
   ]
  },
  {
   "cell_type": "code",
   "execution_count": 4,
   "metadata": {},
   "outputs": [
    {
     "name": "stdout",
     "output_type": "stream",
     "text": [
      "drwolh\n",
      "\n",
      "\n",
      "h\n",
      "e\n",
      "l\n",
      "l\n",
      "o\n",
      " \n",
      "w\n",
      "o\n",
      "r\n",
      "l\n",
      "d\n"
     ]
    }
   ],
   "source": [
    "a = \"hello world\"\n",
    "print(a[-1::-2])\n",
    "# printing a string by calling it's indexes:\n",
    "print(\"\\n\")\n",
    "for i in a:\n",
    "    print(i)"
   ]
  },
  {
   "cell_type": "code",
   "execution_count": 14,
   "metadata": {},
   "outputs": [
    {
     "name": "stdout",
     "output_type": "stream",
     "text": [
      "y u d i\n",
      "y u d i \n",
      " y u d i\n"
     ]
    }
   ],
   "source": [
    "s = \" y u d i \" # there is space\n",
    "print(s.strip()) #last and start space\n",
    "print(s.lstrip()) #LHS Strip\n",
    "print(s.rstrip()) #RHS Strip\n"
   ]
  },
  {
   "cell_type": "code",
   "execution_count": 18,
   "metadata": {},
   "outputs": [
    {
     "data": {
      "text/plain": [
       "'111111111111111111111111111111greetings from yudi!111111111111111111111111111111'"
      ]
     },
     "execution_count": 18,
     "metadata": {},
     "output_type": "execute_result"
    }
   ],
   "source": [
    "s = \"greetings from yudi!\"\n",
    "s.center(80,\"b\") #in center word b\n",
    "s.center(80,\" \") #in center space\n",
    "s.center(80,\"1\") #in center word 1"
   ]
  },
  {
   "cell_type": "code",
   "execution_count": 19,
   "metadata": {},
   "outputs": [
    {
     "data": {
      "text/plain": [
       "'greetings from yudi!'"
      ]
     },
     "execution_count": 19,
     "metadata": {},
     "output_type": "execute_result"
    }
   ],
   "source": [
    "s = \"greetings from yudi!\"\n",
    "s.expandtabs()"
   ]
  },
  {
   "cell_type": "code",
   "execution_count": 20,
   "metadata": {},
   "outputs": [
    {
     "data": {
      "text/plain": [
       "False"
      ]
     },
     "execution_count": 20,
     "metadata": {},
     "output_type": "execute_result"
    }
   ],
   "source": [
    "s = \"this is a string\"\n",
    "s.isupper() #returns t or f cuz it checks\n",
    "s.islower()\n",
    "s.endswith(\"g\")\n",
    "s.startswith(\"t\")\n",
    "s.isalnum() #F\n",
    " "
   ]
  },
  {
   "cell_type": "code",
   "execution_count": 22,
   "metadata": {},
   "outputs": [
    {
     "name": "stdout",
     "output_type": "stream",
     "text": [
      "d\n",
      "l\n",
      "r\n",
      "o\n",
      "w\n",
      " \n",
      "o\n",
      "l\n",
      "l\n",
      "e\n",
      "h\n"
     ]
    }
   ],
   "source": [
    "# reverse of a string\n",
    "s= \"hello world\"\n",
    "c = len(s)-1\n",
    "while c >=0:\n",
    "    print(s[c])\n",
    "    c -= 1"
   ]
  },
  {
   "cell_type": "code",
   "execution_count": 24,
   "metadata": {},
   "outputs": [
    {
     "name": "stdout",
     "output_type": "stream",
     "text": [
      " Vovel present\n",
      " Vovel present\n",
      " Vovel present\n",
      " Vovel present\n",
      " Vovel present\n",
      " Vovel present\n",
      " Vovel present\n",
      " Vovel present\n",
      " Vovel present\n",
      " Vovel present\n",
      " Vovel present\n",
      " Vovel present\n",
      " Vovel present\n",
      " Vovel present\n",
      " Vovel present\n",
      "count: 15\n"
     ]
    }
   ],
   "source": [
    "n = \"yuwiueyuiyhwuiweyuijchmxcmxbvvsquewurydi\"\n",
    "v = \"AEIOUaeiou\"\n",
    "g = 0\n",
    "for i in n:\n",
    "    if i in v:\n",
    "        print( \" Vovel present\")\n",
    "        g += 1\n",
    "print(\"count:\",g)"
   ]
  },
  {
   "cell_type": "code",
   "execution_count": 19,
   "metadata": {},
   "outputs": [],
   "source": [
    "s = \"this is a string within a string full of string.\""
   ]
  },
  {
   "cell_type": "code",
   "execution_count": 20,
   "metadata": {},
   "outputs": [
    {
     "name": "stdout",
     "output_type": "stream",
     "text": [
      "this is my 1st class for full stack data science, that's why i have joined this class\n",
      "t\n",
      "a\n",
      " 1st class for full stack data science, that's why i have joined this cl\n",
      "alc sih\n",
      "dlrow olleh\n",
      "\n",
      "\n",
      "h \n",
      "\n",
      "e \n",
      "\n",
      "l \n",
      "\n",
      "l \n",
      "\n",
      "o \n",
      "\n",
      "  \n",
      "\n",
      "w \n",
      "\n",
      "o \n",
      "\n",
      "r \n",
      "\n",
      "l \n",
      "\n",
      "d \n",
      "\n"
     ]
    }
   ],
   "source": [
    "# invalid syantax \"\"\"\n",
    "# We can index c from left or right\n",
    "c = \"this is my 1st class for full stack data science, that's why i have joined this class\"\n",
    "a = \"hello world\"\n",
    "print(c)\n",
    "print(c[0])\n",
    "print(c[-3])\n",
    "len(c)\n",
    "print(c[10:-3:1])\n",
    "print(c[-3:-10:-1])\n",
    "print(a[::-1])\n",
    "print(\"\\n\")\n",
    "for i in range(len(a)):\n",
    "    print(a[i], \"\\n\")"
   ]
  },
  {
   "cell_type": "markdown",
   "metadata": {},
   "source": [
    "Strings are immutable objects. (type cannot change)\n",
    "\n",
    "List is mutable object. (replacable data in the indexes.)"
   ]
  },
  {
   "cell_type": "code",
   "execution_count": 32,
   "metadata": {},
   "outputs": [
    {
     "name": "stdout",
     "output_type": "stream",
     "text": [
      "3\n",
      "7\n",
      "11\n",
      "14\n",
      "28\n"
     ]
    }
   ],
   "source": [
    "#location of all a in the string:\n",
    "s = \"we all are a part of Full Stack\" \n",
    "for a in range(len(s)):\n",
    "    if s[a] == \"a\":\n",
    "        print(a)"
   ]
  },
  {
   "cell_type": "code",
   "execution_count": 33,
   "metadata": {},
   "outputs": [
    {
     "name": "stdout",
     "output_type": "stream",
     "text": [
      "\n",
      "The string is:  we all are a part of Full Stack\n",
      "\n",
      "we all are a part of full stack\n",
      "\n",
      " 5\n",
      "\n",
      "\n",
      "we iNeuronll iNeuronre iNeuron piNeuronrt of Full StiNeuronck\n",
      "\n",
      "The list:\n",
      " ['w', 'e', ' ', 'a', 'l', 'l', ' ', 'a', 'r', 'e', ' ', 'a', ' ', 'p', 'a', 'r', 't', ' ', 'o', 'f', ' ', 'F', 'u', 'l', 'l', ' ', 'S', 't', 'a', 'c', 'k']\n"
     ]
    }
   ],
   "source": [
    "s = \"we all are a part of Full Stack\"\n",
    "print(\"\\nThe string is: \" , s + \"\\n\")\n",
    "\n",
    "print(s.lower())\n",
    "\n",
    "x = s.count(\"a\") \n",
    "print(\"\\n\" , x) \n",
    "\n",
    "print(\"\\n\")\n",
    "print(s.replace( \"a\" , \"iNeuron\") + \"\\n\")\n",
    "\n",
    "print(\"The list:\\n\" , list(s))"
   ]
  },
  {
   "cell_type": "code",
   "execution_count": 21,
   "metadata": {},
   "outputs": [
    {
     "name": "stdout",
     "output_type": "stream",
     "text": [
      "11\n"
     ]
    }
   ],
   "source": [
    "s = \"yu5tetytydi\"\n",
    "count = 0\n",
    "for i in s:\n",
    "    count +=1\n",
    "print(count)"
   ]
  },
  {
   "cell_type": "code",
   "execution_count": 35,
   "metadata": {},
   "outputs": [
    {
     "name": "stdout",
     "output_type": "stream",
     "text": [
      "i\n",
      "d\n",
      "u\n"
     ]
    }
   ],
   "source": [
    "for i in range(1, len(s)):\n",
    "    print(s[-i])"
   ]
  },
  {
   "cell_type": "code",
   "execution_count": 37,
   "metadata": {},
   "outputs": [
    {
     "name": "stdout",
     "output_type": "stream",
     "text": [
      "the index(es) are: \n",
      "\n",
      "3\n",
      "6\n",
      "10\n"
     ]
    }
   ],
   "source": [
    "s = \"this is a string. hello!\"\n",
    "print(\"the index(es) are: \\n\")\n",
    "for i in range(len(s)):\n",
    "    if s[i] ==\"s\":\n",
    "        print(i)"
   ]
  },
  {
   "cell_type": "code",
   "execution_count": 38,
   "metadata": {},
   "outputs": [
    {
     "name": "stdout",
     "output_type": "stream",
     "text": [
      "Enter a string: heloeojwoine\n",
      "\n",
      "The string entered  is: heloeojwoine \n",
      "\n",
      "Vowel found!\n",
      "Vowel found!\n",
      "Vowel found!\n",
      "Vowel found!\n",
      "Vowel found!\n",
      "Vowel found!\n",
      "Vowel found!\n",
      "\n",
      "Total vowels in the string: 7\n"
     ]
    }
   ],
   "source": [
    "s = str(input(\"Enter a string: \"))\n",
    "b=\"AEIOUaeiou\"\n",
    "print(\"\\nThe string entered  is:\",s,\"\\n\")\n",
    "g = 0\n",
    "for i in s:\n",
    "    if i in b:\n",
    "        print(\"Vowel found!\")\n",
    "        g+=1\n",
    "print(\"\\nTotal vowels in the string:\",g)"
   ]
  },
  {
   "cell_type": "code",
   "execution_count": null,
   "metadata": {},
   "outputs": [],
   "source": []
  },
  {
   "cell_type": "code",
   "execution_count": 36,
   "metadata": {},
   "outputs": [
    {
     "name": "stdout",
     "output_type": "stream",
     "text": [
      "we are all a part of full stack. \n",
      "\n",
      "character 'a' found.\n",
      "character 'a' found.\n",
      "character 'a' found.\n",
      "character 'a' found.\n",
      "character 'a' found.\n",
      "\n",
      "total occurances:  5\n",
      "The replaced string:  We iNeuronre iNeuronll iNeuron piNeuronrt of full stiNeuronck.\n",
      "\n",
      " ['We', 'are', 'all', 'a', 'part', 'of', 'full', 'stack.']\n",
      "\n",
      " ['W', 'e', ' ', 'a', 'r', 'e', ' ', 'a', 'l', 'l', ' ', 'a', ' ', 'p', 'a', 'r', 't', ' ', 'o', 'f', ' ', 'f', 'u', 'l', 'l', ' ', 's', 't', 'a', 'c', 'k', '.']\n"
     ]
    }
   ],
   "source": [
    "# Exercise:\n",
    "a =  \"We are all a part of full stack.\"\n",
    "\n",
    "# 1: lowercase:\n",
    "\n",
    "b = a.lower()\n",
    "print(b,\"\\n\")\n",
    "\n",
    "# 2: occurance of 'a' in the entire string:\n",
    "\n",
    "g = 0\n",
    "for i in a:\n",
    "    if i == 'a':\n",
    "        print(\"character 'a' found.\")\n",
    "        g += 1\n",
    "\n",
    "# 3: occurances of 'a' in the string:\n",
    "\n",
    "print(\"\\ntotal occurances: \",g)\n",
    "\n",
    "# 4: replacing all 'a' with 'iNeuron':\n",
    "\n",
    "print(\"The replaced string: \",a.replace(\"a\",\"iNeuron\"))\n",
    "\n",
    "#5 : string as a list:\n",
    "\n",
    "print(\"\\n\",a.split())\n",
    "print(\"\\n\",list(a))"
   ]
  }
 ],
 "metadata": {
  "kernelspec": {
   "display_name": "Python 3",
   "language": "python",
   "name": "python3"
  },
  "language_info": {
   "codemirror_mode": {
    "name": "ipython",
    "version": 3
   },
   "file_extension": ".py",
   "mimetype": "text/x-python",
   "name": "python",
   "nbconvert_exporter": "python",
   "pygments_lexer": "ipython3",
   "version": "3.8.5"
  }
 },
 "nbformat": 4,
 "nbformat_minor": 4
}
